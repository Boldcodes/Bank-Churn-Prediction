{
 "cells": [
  {
   "cell_type": "markdown",
   "id": "725623df",
   "metadata": {},
   "source": [
    "## Bank Customers Churn Prediction"
   ]
  },
  {
   "cell_type": "markdown",
   "id": "2f29cae6",
   "metadata": {
    "toc": true
   },
   "source": [
    "<h1>Table of Contents<span class=\"tocSkip\"></span></h1>\n",
    "<div class=\"toc\"><ul class=\"toc-item\"><li><span><a href=\"#Bank-Customers-Churn-Prediction\" data-toc-modified-id=\"Bank-Customers-Churn-Prediction-1\"><span class=\"toc-item-num\">1&nbsp;&nbsp;</span>Bank Customers Churn Prediction</a></span></li><li><span><a href=\"#Overview\" data-toc-modified-id=\"Overview-2\"><span class=\"toc-item-num\">2&nbsp;&nbsp;</span>Overview</a></span><ul class=\"toc-item\"><li><span><a href=\"#Dataset-Story\" data-toc-modified-id=\"Dataset-Story-2.1\"><span class=\"toc-item-num\">2.1&nbsp;&nbsp;</span>Dataset Story</a></span><ul class=\"toc-item\"><li><span><a href=\"#Description-of-Variables-in-the-dataset\" data-toc-modified-id=\"Description-of-Variables-in-the-dataset-2.1.1\"><span class=\"toc-item-num\">2.1.1&nbsp;&nbsp;</span>Description of Variables in the dataset</a></span></li></ul></li><li><span><a href=\"#Import-Relevant-Libraries\" data-toc-modified-id=\"Import-Relevant-Libraries-2.2\"><span class=\"toc-item-num\">2.2&nbsp;&nbsp;</span>Import Relevant Libraries</a></span></li><li><span><a href=\"#Loading-the-Dataset\" data-toc-modified-id=\"Loading-the-Dataset-2.3\"><span class=\"toc-item-num\">2.3&nbsp;&nbsp;</span>Loading the Dataset</a></span></li></ul></li><li><span><a href=\"#Exploring-the-Dataset\" data-toc-modified-id=\"Exploring-the-Dataset-3\"><span class=\"toc-item-num\">3&nbsp;&nbsp;</span>Exploring the Dataset</a></span><ul class=\"toc-item\"><li><span><a href=\"#Checking-the-shape-of-the-Dataset\" data-toc-modified-id=\"Checking-the-shape-of-the-Dataset-3.1\"><span class=\"toc-item-num\">3.1&nbsp;&nbsp;</span>Checking the shape of the Dataset</a></span></li><li><span><a href=\"#Brief-EDA-using-sweetviz-library\" data-toc-modified-id=\"Brief-EDA-using-sweetviz-library-3.2\"><span class=\"toc-item-num\">3.2&nbsp;&nbsp;</span>Brief EDA using sweetviz library</a></span></li><li><span><a href=\"#Checking-for-missing-values\" data-toc-modified-id=\"Checking-for-missing-values-3.3\"><span class=\"toc-item-num\">3.3&nbsp;&nbsp;</span>Checking for missing values</a></span></li><li><span><a href=\"#Checking-for-Duplicates\" data-toc-modified-id=\"Checking-for-Duplicates-3.4\"><span class=\"toc-item-num\">3.4&nbsp;&nbsp;</span>Checking for Duplicates</a></span></li><li><span><a href=\"#Let's-look-at-the-Data-types\" data-toc-modified-id=\"Let's-look-at-the-Data-types-3.5\"><span class=\"toc-item-num\">3.5&nbsp;&nbsp;</span>Let's look at the Data types</a></span></li><li><span><a href=\"#Descriptive-statistics-of-the-Numerical-Data\" data-toc-modified-id=\"Descriptive-statistics-of-the-Numerical-Data-3.6\"><span class=\"toc-item-num\">3.6&nbsp;&nbsp;</span>Descriptive statistics of the Numerical Data</a></span></li><li><span><a href=\"#Looking-at-the-Descriptive-Statistics\" data-toc-modified-id=\"Looking-at-the-Descriptive-Statistics-3.7\"><span class=\"toc-item-num\">3.7&nbsp;&nbsp;</span>Looking at the Descriptive Statistics</a></span></li></ul></li><li><span><a href=\"#Defining-the-Variable-types\" data-toc-modified-id=\"Defining-the-Variable-types-4\"><span class=\"toc-item-num\">4&nbsp;&nbsp;</span>Defining the Variable types</a></span><ul class=\"toc-item\"><li><span><a href=\"#Viewing-each-columns\" data-toc-modified-id=\"Viewing-each-columns-4.1\"><span class=\"toc-item-num\">4.1&nbsp;&nbsp;</span>Viewing each columns</a></span></li></ul></li><li><span><a href=\"#Visual-Exploration-of-Categorical-Variables\" data-toc-modified-id=\"Visual-Exploration-of-Categorical-Variables-5\"><span class=\"toc-item-num\">5&nbsp;&nbsp;</span>Visual Exploration of Categorical Variables</a></span><ul class=\"toc-item\"><li><span><a href=\"#Geography\" data-toc-modified-id=\"Geography-5.1\"><span class=\"toc-item-num\">5.1&nbsp;&nbsp;</span>Geography</a></span></li><li><span><a href=\"#Gender\" data-toc-modified-id=\"Gender-5.2\"><span class=\"toc-item-num\">5.2&nbsp;&nbsp;</span>Gender</a></span></li><li><span><a href=\"#Number-of-Product\" data-toc-modified-id=\"Number-of-Product-5.3\"><span class=\"toc-item-num\">5.3&nbsp;&nbsp;</span>Number of Product</a></span></li><li><span><a href=\"#Has-Credit-Card\" data-toc-modified-id=\"Has-Credit-Card-5.4\"><span class=\"toc-item-num\">5.4&nbsp;&nbsp;</span>Has Credit Card</a></span></li><li><span><a href=\"#Is-an-Active-Member\" data-toc-modified-id=\"Is-an-Active-Member-5.5\"><span class=\"toc-item-num\">5.5&nbsp;&nbsp;</span>Is an Active Member</a></span></li><li><span><a href=\"#Exited\" data-toc-modified-id=\"Exited-5.6\"><span class=\"toc-item-num\">5.6&nbsp;&nbsp;</span>Exited</a></span></li></ul></li><li><span><a href=\"#Exploration-of-Numerical-variable\" data-toc-modified-id=\"Exploration-of-Numerical-variable-6\"><span class=\"toc-item-num\">6&nbsp;&nbsp;</span>Exploration of Numerical variable</a></span></li><li><span><a href=\"#Looking-at-the-Correlation-Matrix-of-variables\" data-toc-modified-id=\"Looking-at-the-Correlation-Matrix-of-variables-7\"><span class=\"toc-item-num\">7&nbsp;&nbsp;</span>Looking at the Correlation Matrix of variables</a></span><ul class=\"toc-item\"><li><span><a href=\"#Clustering-analysis-of-NumOfProduct-and-Balance-as-it-relates-to-Exited\" data-toc-modified-id=\"Clustering-analysis-of-NumOfProduct-and-Balance-as-it-relates-to-Exited-7.1\"><span class=\"toc-item-num\">7.1&nbsp;&nbsp;</span>Clustering analysis of NumOfProduct and Balance as it relates to Exited</a></span></li></ul></li><li><span><a href=\"#Feature-Selection\" data-toc-modified-id=\"Feature-Selection-8\"><span class=\"toc-item-num\">8&nbsp;&nbsp;</span>Feature Selection</a></span><ul class=\"toc-item\"><li><span><a href=\"#Creating-the-Feature-Matrix\" data-toc-modified-id=\"Creating-the-Feature-Matrix-8.1\"><span class=\"toc-item-num\">8.1&nbsp;&nbsp;</span>Creating the Feature Matrix</a></span></li><li><span><a href=\"#Mutual-Information-Scoring\" data-toc-modified-id=\"Mutual-Information-Scoring-8.2\"><span class=\"toc-item-num\">8.2&nbsp;&nbsp;</span>Mutual Information Scoring</a></span></li><li><span><a href=\"#Mutual-information\" data-toc-modified-id=\"Mutual-information-8.3\"><span class=\"toc-item-num\">8.3&nbsp;&nbsp;</span>Mutual information</a></span><ul class=\"toc-item\"><li><span><a href=\"#Viewing-the-MI-scoring\" data-toc-modified-id=\"Viewing-the-MI-scoring-8.3.1\"><span class=\"toc-item-num\">8.3.1&nbsp;&nbsp;</span>Viewing the MI scoring</a></span></li><li><span><a href=\"#Creating-Another-Feature-Matrix-for-our-Model\" data-toc-modified-id=\"Creating-Another-Feature-Matrix-for-our-Model-8.3.2\"><span class=\"toc-item-num\">8.3.2&nbsp;&nbsp;</span>Creating Another Feature Matrix for our Model</a></span></li><li><span><a href=\"#Scaling-The-numerical-columns\" data-toc-modified-id=\"Scaling-The-numerical-columns-8.3.3\"><span class=\"toc-item-num\">8.3.3&nbsp;&nbsp;</span>Scaling The numerical columns</a></span></li></ul></li></ul></li><li><span><a href=\"#Modelling\" data-toc-modified-id=\"Modelling-9\"><span class=\"toc-item-num\">9&nbsp;&nbsp;</span>Modelling</a></span><ul class=\"toc-item\"><li><span><a href=\"#Cross-Validation\" data-toc-modified-id=\"Cross-Validation-9.1\"><span class=\"toc-item-num\">9.1&nbsp;&nbsp;</span>Cross Validation</a></span><ul class=\"toc-item\"><li><span><a href=\"#Pruning\" data-toc-modified-id=\"Pruning-9.1.1\"><span class=\"toc-item-num\">9.1.1&nbsp;&nbsp;</span>Pruning</a></span></li><li><span><a href=\"#Visualizing-Training-and-Validation-acuracy-when-alpha-is-increased\" data-toc-modified-id=\"Visualizing-Training-and-Validation-acuracy-when-alpha-is-increased-9.1.2\"><span class=\"toc-item-num\">9.1.2&nbsp;&nbsp;</span>Visualizing Training and Validation acuracy when alpha is increased</a></span><ul class=\"toc-item\"><li><span><a href=\"#The-best-Effective_alpha\" data-toc-modified-id=\"The-best-Effective_alpha-9.1.2.1\"><span class=\"toc-item-num\">9.1.2.1&nbsp;&nbsp;</span>The best Effective_alpha</a></span></li></ul></li><li><span><a href=\"#Pruned-Decision-Tree-Model\" data-toc-modified-id=\"Pruned-Decision-Tree-Model-9.1.3\"><span class=\"toc-item-num\">9.1.3&nbsp;&nbsp;</span>Pruned Decision Tree Model</a></span></li></ul></li><li><span><a href=\"#Random-Forest-Model-Classifier\" data-toc-modified-id=\"Random-Forest-Model-Classifier-9.2\"><span class=\"toc-item-num\">9.2&nbsp;&nbsp;</span>Random Forest Model Classifier</a></span><ul class=\"toc-item\"><li><span><a href=\"#Optimizing-the-random-forest-model\" data-toc-modified-id=\"Optimizing-the-random-forest-model-9.2.1\"><span class=\"toc-item-num\">9.2.1&nbsp;&nbsp;</span>Optimizing the random forest model</a></span></li></ul></li><li><span><a href=\"#Handling-Weight-Imbalance\" data-toc-modified-id=\"Handling-Weight-Imbalance-9.3\"><span class=\"toc-item-num\">9.3&nbsp;&nbsp;</span>Handling Weight Imbalance</a></span></li><li><span><a href=\"#Fitting-Final-Models\" data-toc-modified-id=\"Fitting-Final-Models-9.4\"><span class=\"toc-item-num\">9.4&nbsp;&nbsp;</span>Fitting Final Models</a></span><ul class=\"toc-item\"><li><span><a href=\"#Baseline-Model\" data-toc-modified-id=\"Baseline-Model-9.4.1\"><span class=\"toc-item-num\">9.4.1&nbsp;&nbsp;</span>Baseline Model</a></span></li><li><span><a href=\"#Weighted-Model\" data-toc-modified-id=\"Weighted-Model-9.4.2\"><span class=\"toc-item-num\">9.4.2&nbsp;&nbsp;</span>Weighted Model</a></span></li></ul></li><li><span><a href=\"#Testing-The-Model\" data-toc-modified-id=\"Testing-The-Model-9.5\"><span class=\"toc-item-num\">9.5&nbsp;&nbsp;</span>Testing The Model</a></span><ul class=\"toc-item\"><li><span><a href=\"#Baseline-Model-Test\" data-toc-modified-id=\"Baseline-Model-Test-9.5.1\"><span class=\"toc-item-num\">9.5.1&nbsp;&nbsp;</span>Baseline Model Test</a></span></li><li><span><a href=\"#The-results\" data-toc-modified-id=\"The-results-9.5.2\"><span class=\"toc-item-num\">9.5.2&nbsp;&nbsp;</span>The results</a></span></li><li><span><a href=\"#Metrics-and-Confusion-Matrix\" data-toc-modified-id=\"Metrics-and-Confusion-Matrix-9.5.3\"><span class=\"toc-item-num\">9.5.3&nbsp;&nbsp;</span>Metrics and Confusion Matrix</a></span></li></ul></li><li><span><a href=\"#Weighted-Model\" data-toc-modified-id=\"Weighted-Model-9.6\"><span class=\"toc-item-num\">9.6&nbsp;&nbsp;</span>Weighted Model</a></span><ul class=\"toc-item\"><li><span><a href=\"#Result-of-Weighted-Model\" data-toc-modified-id=\"Result-of-Weighted-Model-9.6.1\"><span class=\"toc-item-num\">9.6.1&nbsp;&nbsp;</span>Result of Weighted Model</a></span></li><li><span><a href=\"#Metrics-and-Confusion-Matrix-of-the-Weighted-Model\" data-toc-modified-id=\"Metrics-and-Confusion-Matrix-of-the-Weighted-Model-9.6.2\"><span class=\"toc-item-num\">9.6.2&nbsp;&nbsp;</span>Metrics and Confusion Matrix of the Weighted Model</a></span></li></ul></li><li><span><a href=\"#Model-Explainability\" data-toc-modified-id=\"Model-Explainability-9.7\"><span class=\"toc-item-num\">9.7&nbsp;&nbsp;</span>Model Explainability</a></span></li></ul></li><li><span><a href=\"#Conclusion\" data-toc-modified-id=\"Conclusion-10\"><span class=\"toc-item-num\">10&nbsp;&nbsp;</span>Conclusion</a></span></li></ul></div>"
   ]
  },
  {
   "cell_type": "markdown",
   "id": "43dc5b57",
   "metadata": {},
   "source": [
    "## Overview"
   ]
  },
  {
   "cell_type": "markdown",
   "id": "a8215d35",
   "metadata": {},
   "source": [
    "The purpose of this project is to predict bank customers churn, building a classification based model, capable of predicting whether a customer will churn or not.\n",
    "\n",
    "I will be making use of Tree based algorithms; DecisionTreeClassifier and RandomForestClassifier.\n",
    "The Decision tree will be initially instantiated then optimized by prunning using cost-complexity-pruning.\n",
    "The Random forest classifier will then be instantiated using the pruned Decision tree, then further optimized by tunning the n_estimators hyparameter in the RandomForestClassifier."
   ]
  },
  {
   "cell_type": "markdown",
   "id": "7c5996d6",
   "metadata": {},
   "source": [
    "### Dataset Story\n",
    "\n",
    "- The Dataset for this project was sourced from kaggle.com\n",
    "- The dataset contains bank's customers information and churn status"
   ]
  },
  {
   "cell_type": "markdown",
   "id": "a4c55c4b",
   "metadata": {},
   "source": [
    "#### Description of Variables in the dataset\n",
    "\n",
    "- RowNumber:\n",
    "- CustomerId:\n",
    "- Surname: Surname of relevant customer\n",
    "- CreditScore: It changes 350-850 in the dataset, express credit eligibility\n",
    "- Geography: There are 3 country in the dataset, show county where Customer live in.\n",
    "- Gender: Customer Gender\n",
    "- Age: Customer Age\n",
    "- Tenure: How many years customer work with this bank\n",
    "- Balance: Customer's total money in the account\n",
    "- NumOfProducts: Product number customer use\n",
    "- HasCrCard: Whether has credit card or not (Customer has credit card is 1)\n",
    "- IsActiveMember: Customer is active or not\n",
    "- EstimatedSalary: Customers salary (yearly)\n",
    "- Exited: Churn or not (Churn situation is 1)"
   ]
  },
  {
   "cell_type": "markdown",
   "id": "f4d20a70",
   "metadata": {},
   "source": [
    "### Import Relevant Libraries"
   ]
  },
  {
   "cell_type": "code",
   "execution_count": 1,
   "id": "2ed65c61",
   "metadata": {
    "ExecuteTime": {
     "end_time": "2022-08-02T15:22:07.422017Z",
     "start_time": "2022-08-02T15:21:35.400160Z"
    }
   },
   "outputs": [],
   "source": [
    "import numpy as np\n",
    "import matplotlib.pyplot as plt\n",
    "import pandas as pd\n",
    "import seaborn as sns\n",
    "from tqdm import tqdm\n",
    "sns.set()\n",
    "\n",
    "from sklearn.model_selection import train_test_split\n",
    "from sklearn import preprocessing\n",
    "from sklearn.metrics import accuracy_score\n",
    "from sklearn.model_selection import KFold\n",
    "from sklearn.model_selection import cross_val_score, GridSearchCV\n",
    "\n",
    "import warnings\n",
    "warnings.filterwarnings(\"ignore\", category=DeprecationWarning) \n",
    "warnings.filterwarnings(\"ignore\", category=FutureWarning) \n",
    "warnings.filterwarnings(\"ignore\", category=UserWarning) \n",
    "\n",
    "# %config InlineBackend.figure_format = 'retina'\n",
    "\n",
    "%matplotlib inline"
   ]
  },
  {
   "cell_type": "markdown",
   "id": "ceefaa95",
   "metadata": {},
   "source": [
    "### Loading the Dataset"
   ]
  },
  {
   "cell_type": "code",
   "execution_count": 2,
   "id": "3de58c97",
   "metadata": {
    "ExecuteTime": {
     "end_time": "2022-08-02T15:22:07.670246Z",
     "start_time": "2022-08-02T15:22:07.422017Z"
    }
   },
   "outputs": [],
   "source": [
    "raw_data = pd.read_csv('Churn Modeling.csv')\n",
    "# Making a copy of the dataset\n",
    "df = raw_data.copy()"
   ]
  },
  {
   "cell_type": "code",
   "execution_count": 3,
   "id": "a3157a45",
   "metadata": {
    "ExecuteTime": {
     "end_time": "2022-08-02T15:22:07.686200Z",
     "start_time": "2022-08-02T15:22:07.670246Z"
    }
   },
   "outputs": [],
   "source": [
    "pd.set_option('display.max_columns', None)\n",
    "pd.set_option('display.max_rows', None)\n",
    "pd.set_option('display.float_format', lambda x: '%.3f' % x)"
   ]
  },
  {
   "cell_type": "markdown",
   "id": "30fe2482",
   "metadata": {},
   "source": [
    "## Exploring the Dataset"
   ]
  },
  {
   "cell_type": "code",
   "execution_count": 4,
   "id": "183f5cea",
   "metadata": {
    "ExecuteTime": {
     "end_time": "2022-08-02T15:22:08.038152Z",
     "start_time": "2022-08-02T15:22:07.686200Z"
    }
   },
   "outputs": [
    {
     "data": {
      "text/html": [
       "<div>\n",
       "<style scoped>\n",
       "    .dataframe tbody tr th:only-of-type {\n",
       "        vertical-align: middle;\n",
       "    }\n",
       "\n",
       "    .dataframe tbody tr th {\n",
       "        vertical-align: top;\n",
       "    }\n",
       "\n",
       "    .dataframe thead th {\n",
       "        text-align: right;\n",
       "    }\n",
       "</style>\n",
       "<table border=\"1\" class=\"dataframe\">\n",
       "  <thead>\n",
       "    <tr style=\"text-align: right;\">\n",
       "      <th></th>\n",
       "      <th>RowNumber</th>\n",
       "      <th>CustomerId</th>\n",
       "      <th>Surname</th>\n",
       "      <th>CreditScore</th>\n",
       "      <th>Geography</th>\n",
       "      <th>Gender</th>\n",
       "      <th>Age</th>\n",
       "      <th>Tenure</th>\n",
       "      <th>Balance</th>\n",
       "      <th>NumOfProducts</th>\n",
       "      <th>HasCrCard</th>\n",
       "      <th>IsActiveMember</th>\n",
       "      <th>EstimatedSalary</th>\n",
       "      <th>Exited</th>\n",
       "    </tr>\n",
       "  </thead>\n",
       "  <tbody>\n",
       "    <tr>\n",
       "      <th>0</th>\n",
       "      <td>1</td>\n",
       "      <td>15634602</td>\n",
       "      <td>Hargrave</td>\n",
       "      <td>619</td>\n",
       "      <td>France</td>\n",
       "      <td>Female</td>\n",
       "      <td>42</td>\n",
       "      <td>2</td>\n",
       "      <td>0.000</td>\n",
       "      <td>1</td>\n",
       "      <td>1</td>\n",
       "      <td>1</td>\n",
       "      <td>101348.880</td>\n",
       "      <td>1</td>\n",
       "    </tr>\n",
       "    <tr>\n",
       "      <th>1</th>\n",
       "      <td>2</td>\n",
       "      <td>15647311</td>\n",
       "      <td>Hill</td>\n",
       "      <td>608</td>\n",
       "      <td>Spain</td>\n",
       "      <td>Female</td>\n",
       "      <td>41</td>\n",
       "      <td>1</td>\n",
       "      <td>83807.860</td>\n",
       "      <td>1</td>\n",
       "      <td>0</td>\n",
       "      <td>1</td>\n",
       "      <td>112542.580</td>\n",
       "      <td>0</td>\n",
       "    </tr>\n",
       "    <tr>\n",
       "      <th>2</th>\n",
       "      <td>3</td>\n",
       "      <td>15619304</td>\n",
       "      <td>Onio</td>\n",
       "      <td>502</td>\n",
       "      <td>France</td>\n",
       "      <td>Female</td>\n",
       "      <td>42</td>\n",
       "      <td>8</td>\n",
       "      <td>159660.800</td>\n",
       "      <td>3</td>\n",
       "      <td>1</td>\n",
       "      <td>0</td>\n",
       "      <td>113931.570</td>\n",
       "      <td>1</td>\n",
       "    </tr>\n",
       "    <tr>\n",
       "      <th>3</th>\n",
       "      <td>4</td>\n",
       "      <td>15701354</td>\n",
       "      <td>Boni</td>\n",
       "      <td>699</td>\n",
       "      <td>France</td>\n",
       "      <td>Female</td>\n",
       "      <td>39</td>\n",
       "      <td>1</td>\n",
       "      <td>0.000</td>\n",
       "      <td>2</td>\n",
       "      <td>0</td>\n",
       "      <td>0</td>\n",
       "      <td>93826.630</td>\n",
       "      <td>0</td>\n",
       "    </tr>\n",
       "    <tr>\n",
       "      <th>4</th>\n",
       "      <td>5</td>\n",
       "      <td>15737888</td>\n",
       "      <td>Mitchell</td>\n",
       "      <td>850</td>\n",
       "      <td>Spain</td>\n",
       "      <td>Female</td>\n",
       "      <td>43</td>\n",
       "      <td>2</td>\n",
       "      <td>125510.820</td>\n",
       "      <td>1</td>\n",
       "      <td>1</td>\n",
       "      <td>1</td>\n",
       "      <td>79084.100</td>\n",
       "      <td>0</td>\n",
       "    </tr>\n",
       "  </tbody>\n",
       "</table>\n",
       "</div>"
      ],
      "text/plain": [
       "   RowNumber  CustomerId   Surname  CreditScore Geography  Gender  Age  \\\n",
       "0          1    15634602  Hargrave          619    France  Female   42   \n",
       "1          2    15647311      Hill          608     Spain  Female   41   \n",
       "2          3    15619304      Onio          502    France  Female   42   \n",
       "3          4    15701354      Boni          699    France  Female   39   \n",
       "4          5    15737888  Mitchell          850     Spain  Female   43   \n",
       "\n",
       "   Tenure    Balance  NumOfProducts  HasCrCard  IsActiveMember  \\\n",
       "0       2      0.000              1          1               1   \n",
       "1       1  83807.860              1          0               1   \n",
       "2       8 159660.800              3          1               0   \n",
       "3       1      0.000              2          0               0   \n",
       "4       2 125510.820              1          1               1   \n",
       "\n",
       "   EstimatedSalary  Exited  \n",
       "0       101348.880       1  \n",
       "1       112542.580       0  \n",
       "2       113931.570       1  \n",
       "3        93826.630       0  \n",
       "4        79084.100       0  "
      ]
     },
     "execution_count": 4,
     "metadata": {},
     "output_type": "execute_result"
    }
   ],
   "source": [
    "df.head()"
   ]
  },
  {
   "cell_type": "markdown",
   "id": "f52e5312",
   "metadata": {},
   "source": [
    "### Checking the shape of the Dataset"
   ]
  },
  {
   "cell_type": "code",
   "execution_count": 5,
   "id": "61cad106",
   "metadata": {
    "ExecuteTime": {
     "end_time": "2022-08-02T15:22:08.054146Z",
     "start_time": "2022-08-02T15:22:08.038152Z"
    }
   },
   "outputs": [
    {
     "data": {
      "text/plain": [
       "(10000, 14)"
      ]
     },
     "execution_count": 5,
     "metadata": {},
     "output_type": "execute_result"
    }
   ],
   "source": [
    "df.shape"
   ]
  },
  {
   "cell_type": "markdown",
   "id": "fa894cce",
   "metadata": {},
   "source": [
    "**There are 14 features and 10000 Rows/Observations"
   ]
  },
  {
   "cell_type": "markdown",
   "id": "9cb9929c",
   "metadata": {},
   "source": [
    "**A number of attributes are categorical in nature, they are; Surname, Gender, Geography, HasCrCard, IsActiveMember and Exited. While HasCrCard, IsActiveMember and Exited have all been encoded with numerical values for Yes/No, Surname, Gender and Geography are left in their string forms.**"
   ]
  },
  {
   "cell_type": "markdown",
   "id": "7a9f186c",
   "metadata": {},
   "source": [
    "### Brief EDA using sweetviz library "
   ]
  },
  {
   "cell_type": "code",
   "execution_count": 6,
   "id": "dbd6a212",
   "metadata": {
    "ExecuteTime": {
     "end_time": "2022-08-02T15:22:09.268316Z",
     "start_time": "2022-08-02T15:22:08.054146Z"
    }
   },
   "outputs": [],
   "source": [
    "import sweetviz\n",
    "# my_report = sweetviz.analyze([df, 'df'], target_feat='Exited')"
   ]
  },
  {
   "cell_type": "code",
   "execution_count": 7,
   "id": "ca131f17",
   "metadata": {
    "ExecuteTime": {
     "end_time": "2022-08-02T15:22:09.276257Z",
     "start_time": "2022-08-02T15:22:09.268316Z"
    }
   },
   "outputs": [],
   "source": [
    "# my_report.show_html('Report.html')"
   ]
  },
  {
   "cell_type": "markdown",
   "id": "3a00fadd",
   "metadata": {},
   "source": [
    "**From the SweetViz Analysis**\n",
    "The data has\n",
    "- 10,000 Rows\n",
    "- 0 Duplicates\n",
    "- 14 Features\n",
    "- 6 Categorical\n",
    "- 7 Numerical\n",
    "- 1 Text"
   ]
  },
  {
   "cell_type": "markdown",
   "id": "dbfa8c8c",
   "metadata": {},
   "source": [
    "**The categorical features includes;**\n",
    "- Geography\n",
    "- Gender\n",
    "- Num of Products\n",
    "- HasCrCard\n",
    "- IsActiveMember\n",
    "- Exited\n",
    "\n",
    "**The numerical features includes;**\n",
    "- Row Number\n",
    "- CustomerId\n",
    "- CreditScore\n",
    "- Age\n",
    "- Tenure\n",
    "- Balance\n",
    "- Estimated Salary\n",
    "\n",
    "**Text**\n",
    "- Surname"
   ]
  },
  {
   "cell_type": "markdown",
   "id": "bf460d10",
   "metadata": {},
   "source": [
    "### Checking for missing values"
   ]
  },
  {
   "cell_type": "code",
   "execution_count": 8,
   "id": "33644705",
   "metadata": {
    "ExecuteTime": {
     "end_time": "2022-08-02T15:22:09.556254Z",
     "start_time": "2022-08-02T15:22:09.276257Z"
    }
   },
   "outputs": [
    {
     "name": "stdout",
     "output_type": "stream",
     "text": [
      "There are no missing values in the dataset\n"
     ]
    }
   ],
   "source": [
    "# There are no missing values as seen in the Sweetviz analysis, But we have to confirm this\n",
    "if df.isnull().any().sum().sum() > 0:\n",
    "    print(f'There are {df.isnull().any().sum().sum()} missing values in the dataset')\n",
    "else:\n",
    "    print('There are no missing values in the dataset')"
   ]
  },
  {
   "cell_type": "markdown",
   "id": "35abd312",
   "metadata": {},
   "source": [
    "### Checking for Duplicates"
   ]
  },
  {
   "cell_type": "code",
   "execution_count": 9,
   "id": "23383c9f",
   "metadata": {
    "ExecuteTime": {
     "end_time": "2022-08-02T15:22:09.820267Z",
     "start_time": "2022-08-02T15:22:09.556254Z"
    }
   },
   "outputs": [
    {
     "name": "stdout",
     "output_type": "stream",
     "text": [
      "There are no duplicates in this Dataset\n"
     ]
    }
   ],
   "source": [
    "# The Sweetviz analysis showed no Duplicates but we'll be confirming this\n",
    "if df.duplicated().sum() > 0:\n",
    "    print(f'There are/is duplicates in this dataset \\nNumber: {df.duplicated().sum()}')\n",
    "else:\n",
    "    print('There are no duplicates in this Dataset')"
   ]
  },
  {
   "cell_type": "markdown",
   "id": "9f24f5fe",
   "metadata": {},
   "source": [
    "### Let's look at the Data types"
   ]
  },
  {
   "cell_type": "code",
   "execution_count": 10,
   "id": "0585b41e",
   "metadata": {
    "ExecuteTime": {
     "end_time": "2022-08-02T15:22:09.836227Z",
     "start_time": "2022-08-02T15:22:09.820267Z"
    }
   },
   "outputs": [
    {
     "data": {
      "text/plain": [
       "RowNumber            int64\n",
       "CustomerId           int64\n",
       "Surname             object\n",
       "CreditScore          int64\n",
       "Geography           object\n",
       "Gender              object\n",
       "Age                  int64\n",
       "Tenure               int64\n",
       "Balance            float64\n",
       "NumOfProducts        int64\n",
       "HasCrCard            int64\n",
       "IsActiveMember       int64\n",
       "EstimatedSalary    float64\n",
       "Exited               int64\n",
       "dtype: object"
      ]
     },
     "execution_count": 10,
     "metadata": {},
     "output_type": "execute_result"
    }
   ],
   "source": [
    "df.dtypes"
   ]
  },
  {
   "cell_type": "markdown",
   "id": "7b135f38",
   "metadata": {
    "ExecuteTime": {
     "end_time": "2022-07-21T17:54:41.072513Z",
     "start_time": "2022-07-21T17:54:41.048512Z"
    }
   },
   "source": [
    "**First Glance**\n",
    "\n",
    "- There are 10000 observation unit and 14 different variables.\n",
    "- All variables' types are true.\n",
    "- There are no NaN values.\n",
    "- There are zero values in Tenure variables, so these customers who have zero tenure values have attended newly.\n",
    "- Some categorical variables are numeric type. (Ex. IsActiveMember)\n",
    "- We can delete RowNumber variables."
   ]
  },
  {
   "cell_type": "markdown",
   "id": "088a2768",
   "metadata": {},
   "source": [
    "### Descriptive statistics of the Numerical Data "
   ]
  },
  {
   "cell_type": "code",
   "execution_count": 11,
   "id": "b7a01f6f",
   "metadata": {
    "ExecuteTime": {
     "end_time": "2022-08-02T15:22:10.124238Z",
     "start_time": "2022-08-02T15:22:09.836227Z"
    }
   },
   "outputs": [
    {
     "data": {
      "text/html": [
       "<div>\n",
       "<style scoped>\n",
       "    .dataframe tbody tr th:only-of-type {\n",
       "        vertical-align: middle;\n",
       "    }\n",
       "\n",
       "    .dataframe tbody tr th {\n",
       "        vertical-align: top;\n",
       "    }\n",
       "\n",
       "    .dataframe thead th {\n",
       "        text-align: right;\n",
       "    }\n",
       "</style>\n",
       "<table border=\"1\" class=\"dataframe\">\n",
       "  <thead>\n",
       "    <tr style=\"text-align: right;\">\n",
       "      <th></th>\n",
       "      <th>count</th>\n",
       "      <th>mean</th>\n",
       "      <th>std</th>\n",
       "      <th>min</th>\n",
       "      <th>25%</th>\n",
       "      <th>50%</th>\n",
       "      <th>75%</th>\n",
       "      <th>max</th>\n",
       "    </tr>\n",
       "  </thead>\n",
       "  <tbody>\n",
       "    <tr>\n",
       "      <th>CreditScore</th>\n",
       "      <td>10000.000</td>\n",
       "      <td>650.529</td>\n",
       "      <td>96.653</td>\n",
       "      <td>350.000</td>\n",
       "      <td>584.000</td>\n",
       "      <td>652.000</td>\n",
       "      <td>718.000</td>\n",
       "      <td>850.000</td>\n",
       "    </tr>\n",
       "    <tr>\n",
       "      <th>Age</th>\n",
       "      <td>10000.000</td>\n",
       "      <td>38.922</td>\n",
       "      <td>10.488</td>\n",
       "      <td>18.000</td>\n",
       "      <td>32.000</td>\n",
       "      <td>37.000</td>\n",
       "      <td>44.000</td>\n",
       "      <td>92.000</td>\n",
       "    </tr>\n",
       "    <tr>\n",
       "      <th>Tenure</th>\n",
       "      <td>10000.000</td>\n",
       "      <td>5.013</td>\n",
       "      <td>2.892</td>\n",
       "      <td>0.000</td>\n",
       "      <td>3.000</td>\n",
       "      <td>5.000</td>\n",
       "      <td>7.000</td>\n",
       "      <td>10.000</td>\n",
       "    </tr>\n",
       "    <tr>\n",
       "      <th>Balance</th>\n",
       "      <td>10000.000</td>\n",
       "      <td>76485.889</td>\n",
       "      <td>62397.405</td>\n",
       "      <td>0.000</td>\n",
       "      <td>0.000</td>\n",
       "      <td>97198.540</td>\n",
       "      <td>127644.240</td>\n",
       "      <td>250898.090</td>\n",
       "    </tr>\n",
       "    <tr>\n",
       "      <th>NumOfProducts</th>\n",
       "      <td>10000.000</td>\n",
       "      <td>1.530</td>\n",
       "      <td>0.582</td>\n",
       "      <td>1.000</td>\n",
       "      <td>1.000</td>\n",
       "      <td>1.000</td>\n",
       "      <td>2.000</td>\n",
       "      <td>4.000</td>\n",
       "    </tr>\n",
       "    <tr>\n",
       "      <th>HasCrCard</th>\n",
       "      <td>10000.000</td>\n",
       "      <td>0.706</td>\n",
       "      <td>0.456</td>\n",
       "      <td>0.000</td>\n",
       "      <td>0.000</td>\n",
       "      <td>1.000</td>\n",
       "      <td>1.000</td>\n",
       "      <td>1.000</td>\n",
       "    </tr>\n",
       "    <tr>\n",
       "      <th>IsActiveMember</th>\n",
       "      <td>10000.000</td>\n",
       "      <td>0.515</td>\n",
       "      <td>0.500</td>\n",
       "      <td>0.000</td>\n",
       "      <td>0.000</td>\n",
       "      <td>1.000</td>\n",
       "      <td>1.000</td>\n",
       "      <td>1.000</td>\n",
       "    </tr>\n",
       "    <tr>\n",
       "      <th>EstimatedSalary</th>\n",
       "      <td>10000.000</td>\n",
       "      <td>100090.240</td>\n",
       "      <td>57510.493</td>\n",
       "      <td>11.580</td>\n",
       "      <td>51002.110</td>\n",
       "      <td>100193.915</td>\n",
       "      <td>149388.247</td>\n",
       "      <td>199992.480</td>\n",
       "    </tr>\n",
       "  </tbody>\n",
       "</table>\n",
       "</div>"
      ],
      "text/plain": [
       "                    count       mean       std     min       25%        50%  \\\n",
       "CreditScore     10000.000    650.529    96.653 350.000   584.000    652.000   \n",
       "Age             10000.000     38.922    10.488  18.000    32.000     37.000   \n",
       "Tenure          10000.000      5.013     2.892   0.000     3.000      5.000   \n",
       "Balance         10000.000  76485.889 62397.405   0.000     0.000  97198.540   \n",
       "NumOfProducts   10000.000      1.530     0.582   1.000     1.000      1.000   \n",
       "HasCrCard       10000.000      0.706     0.456   0.000     0.000      1.000   \n",
       "IsActiveMember  10000.000      0.515     0.500   0.000     0.000      1.000   \n",
       "EstimatedSalary 10000.000 100090.240 57510.493  11.580 51002.110 100193.915   \n",
       "\n",
       "                       75%        max  \n",
       "CreditScore        718.000    850.000  \n",
       "Age                 44.000     92.000  \n",
       "Tenure               7.000     10.000  \n",
       "Balance         127644.240 250898.090  \n",
       "NumOfProducts        2.000      4.000  \n",
       "HasCrCard            1.000      1.000  \n",
       "IsActiveMember       1.000      1.000  \n",
       "EstimatedSalary 149388.247 199992.480  "
      ]
     },
     "execution_count": 11,
     "metadata": {},
     "output_type": "execute_result"
    }
   ],
   "source": [
    "# Some of the Numerical features are Numerical but categorical ['NumOfProducts','HasCrCard','IsActiveMember','Exited']\n",
    "# While the numerical features are ['CreditScore','Age','Tenure','Balance',NumOfProducts, 'EstimatedSalary']\n",
    "# Lokking at a brief Statistics of the Numerical Features\n",
    "df.loc[:,'CreditScore':'EstimatedSalary'].describe().T"
   ]
  },
  {
   "cell_type": "markdown",
   "id": "f0b8f2f1",
   "metadata": {},
   "source": [
    "### Looking at the Descriptive Statistics"
   ]
  },
  {
   "cell_type": "markdown",
   "id": "98c96006",
   "metadata": {},
   "source": [
    "**CreditScore**: The average CreditScore of customers is 650.5 which is approximately 50% of CreditScore of most customers.\n",
    "Just 25% of customers have creditscore of 718. This analysis shows most customers have good creditscore."
   ]
  },
  {
   "cell_type": "markdown",
   "id": "7fd8e1be",
   "metadata": {},
   "source": [
    "**Age**: The average age of customers is 38.9 which is approximately 39. looking at the quantiles (25% -75%) shows that the age of customers falls within 32-44."
   ]
  },
  {
   "cell_type": "markdown",
   "id": "f7db8a43",
   "metadata": {},
   "source": [
    "**Tenure**: The max Tenure(number of years) some customers spent with the bank shows 10years with majority of customers spending an average of 5 years with the bank. Just 25% of customers spent above 5 years  i.e about 7years."
   ]
  },
  {
   "cell_type": "markdown",
   "id": "7279dfae",
   "metadata": {},
   "source": [
    "**Balance**:Less than 25% of customers have zero(0.000) balance in their account. 50% of the customers have approximately 97000 euros balance which is a bit above the average(mean) balance of approximately 76000 euros. 25% of customers have at at least 127000 euros in their account."
   ]
  },
  {
   "cell_type": "markdown",
   "id": "85cffe60",
   "metadata": {},
   "source": [
    "**NumOfProducts**: Most customers have just 1 number of product with the bank, with just 25% of customers having more than 1 number of products."
   ]
  },
  {
   "cell_type": "markdown",
   "id": "e30685df",
   "metadata": {},
   "source": [
    "**EstimatedSalary**:Majority of customers earn an average of 100000 euros with 25% of customers earning approximately 140000 euros above the average earners. The max and minimum salary are approximately 200000 euros & 11 euros respectively."
   ]
  },
  {
   "cell_type": "code",
   "execution_count": 12,
   "id": "4eb9ff51",
   "metadata": {
    "ExecuteTime": {
     "end_time": "2022-08-02T15:22:10.140180Z",
     "start_time": "2022-08-02T15:22:10.124238Z"
    }
   },
   "outputs": [],
   "source": [
    "# Deleting RowNumber from the Dataset\n",
    "del df['RowNumber']"
   ]
  },
  {
   "cell_type": "code",
   "execution_count": 13,
   "id": "d9e53d3b",
   "metadata": {
    "ExecuteTime": {
     "end_time": "2022-08-02T15:22:10.252221Z",
     "start_time": "2022-08-02T15:22:10.140180Z"
    }
   },
   "outputs": [
    {
     "data": {
      "text/html": [
       "<div>\n",
       "<style scoped>\n",
       "    .dataframe tbody tr th:only-of-type {\n",
       "        vertical-align: middle;\n",
       "    }\n",
       "\n",
       "    .dataframe tbody tr th {\n",
       "        vertical-align: top;\n",
       "    }\n",
       "\n",
       "    .dataframe thead th {\n",
       "        text-align: right;\n",
       "    }\n",
       "</style>\n",
       "<table border=\"1\" class=\"dataframe\">\n",
       "  <thead>\n",
       "    <tr style=\"text-align: right;\">\n",
       "      <th></th>\n",
       "      <th>CustomerId</th>\n",
       "      <th>Surname</th>\n",
       "      <th>CreditScore</th>\n",
       "      <th>Geography</th>\n",
       "      <th>Gender</th>\n",
       "      <th>Age</th>\n",
       "      <th>Tenure</th>\n",
       "      <th>Balance</th>\n",
       "      <th>NumOfProducts</th>\n",
       "      <th>HasCrCard</th>\n",
       "      <th>IsActiveMember</th>\n",
       "      <th>EstimatedSalary</th>\n",
       "      <th>Exited</th>\n",
       "    </tr>\n",
       "  </thead>\n",
       "  <tbody>\n",
       "    <tr>\n",
       "      <th>0</th>\n",
       "      <td>15634602</td>\n",
       "      <td>Hargrave</td>\n",
       "      <td>619</td>\n",
       "      <td>France</td>\n",
       "      <td>Female</td>\n",
       "      <td>42</td>\n",
       "      <td>2</td>\n",
       "      <td>0.000</td>\n",
       "      <td>1</td>\n",
       "      <td>1</td>\n",
       "      <td>1</td>\n",
       "      <td>101348.880</td>\n",
       "      <td>1</td>\n",
       "    </tr>\n",
       "    <tr>\n",
       "      <th>1</th>\n",
       "      <td>15647311</td>\n",
       "      <td>Hill</td>\n",
       "      <td>608</td>\n",
       "      <td>Spain</td>\n",
       "      <td>Female</td>\n",
       "      <td>41</td>\n",
       "      <td>1</td>\n",
       "      <td>83807.860</td>\n",
       "      <td>1</td>\n",
       "      <td>0</td>\n",
       "      <td>1</td>\n",
       "      <td>112542.580</td>\n",
       "      <td>0</td>\n",
       "    </tr>\n",
       "    <tr>\n",
       "      <th>2</th>\n",
       "      <td>15619304</td>\n",
       "      <td>Onio</td>\n",
       "      <td>502</td>\n",
       "      <td>France</td>\n",
       "      <td>Female</td>\n",
       "      <td>42</td>\n",
       "      <td>8</td>\n",
       "      <td>159660.800</td>\n",
       "      <td>3</td>\n",
       "      <td>1</td>\n",
       "      <td>0</td>\n",
       "      <td>113931.570</td>\n",
       "      <td>1</td>\n",
       "    </tr>\n",
       "    <tr>\n",
       "      <th>3</th>\n",
       "      <td>15701354</td>\n",
       "      <td>Boni</td>\n",
       "      <td>699</td>\n",
       "      <td>France</td>\n",
       "      <td>Female</td>\n",
       "      <td>39</td>\n",
       "      <td>1</td>\n",
       "      <td>0.000</td>\n",
       "      <td>2</td>\n",
       "      <td>0</td>\n",
       "      <td>0</td>\n",
       "      <td>93826.630</td>\n",
       "      <td>0</td>\n",
       "    </tr>\n",
       "    <tr>\n",
       "      <th>4</th>\n",
       "      <td>15737888</td>\n",
       "      <td>Mitchell</td>\n",
       "      <td>850</td>\n",
       "      <td>Spain</td>\n",
       "      <td>Female</td>\n",
       "      <td>43</td>\n",
       "      <td>2</td>\n",
       "      <td>125510.820</td>\n",
       "      <td>1</td>\n",
       "      <td>1</td>\n",
       "      <td>1</td>\n",
       "      <td>79084.100</td>\n",
       "      <td>0</td>\n",
       "    </tr>\n",
       "  </tbody>\n",
       "</table>\n",
       "</div>"
      ],
      "text/plain": [
       "   CustomerId   Surname  CreditScore Geography  Gender  Age  Tenure  \\\n",
       "0    15634602  Hargrave          619    France  Female   42       2   \n",
       "1    15647311      Hill          608     Spain  Female   41       1   \n",
       "2    15619304      Onio          502    France  Female   42       8   \n",
       "3    15701354      Boni          699    France  Female   39       1   \n",
       "4    15737888  Mitchell          850     Spain  Female   43       2   \n",
       "\n",
       "     Balance  NumOfProducts  HasCrCard  IsActiveMember  EstimatedSalary  \\\n",
       "0      0.000              1          1               1       101348.880   \n",
       "1  83807.860              1          0               1       112542.580   \n",
       "2 159660.800              3          1               0       113931.570   \n",
       "3      0.000              2          0               0        93826.630   \n",
       "4 125510.820              1          1               1        79084.100   \n",
       "\n",
       "   Exited  \n",
       "0       1  \n",
       "1       0  \n",
       "2       1  \n",
       "3       0  \n",
       "4       0  "
      ]
     },
     "execution_count": 13,
     "metadata": {},
     "output_type": "execute_result"
    }
   ],
   "source": [
    "df.head()"
   ]
  },
  {
   "cell_type": "code",
   "execution_count": 14,
   "id": "776c4c3d",
   "metadata": {
    "ExecuteTime": {
     "end_time": "2022-08-02T15:22:10.380155Z",
     "start_time": "2022-08-02T15:22:10.252221Z"
    }
   },
   "outputs": [
    {
     "data": {
      "text/plain": [
       "(10000, 13)"
      ]
     },
     "execution_count": 14,
     "metadata": {},
     "output_type": "execute_result"
    }
   ],
   "source": [
    "# Looking at the Shape again\n",
    "df.shape"
   ]
  },
  {
   "cell_type": "code",
   "execution_count": 15,
   "id": "9cc96519",
   "metadata": {
    "ExecuteTime": {
     "end_time": "2022-08-02T15:22:10.516167Z",
     "start_time": "2022-08-02T15:22:10.380155Z"
    }
   },
   "outputs": [
    {
     "data": {
      "text/plain": [
       "CustomerId         False\n",
       "Surname             True\n",
       "CreditScore        False\n",
       "Geography           True\n",
       "Gender              True\n",
       "Age                False\n",
       "Tenure             False\n",
       "Balance            False\n",
       "NumOfProducts      False\n",
       "HasCrCard          False\n",
       "IsActiveMember     False\n",
       "EstimatedSalary    False\n",
       "Exited             False\n",
       "dtype: bool"
      ]
     },
     "execution_count": 15,
     "metadata": {},
     "output_type": "execute_result"
    }
   ],
   "source": [
    "# Used to grab Columns of various Categories but not numeric\n",
    "# cat_cols =[ Surname, Geography, Gender]\n",
    "df.dtypes == \"object\""
   ]
  },
  {
   "cell_type": "code",
   "execution_count": 16,
   "id": "67ad0c7f",
   "metadata": {
    "ExecuteTime": {
     "end_time": "2022-08-02T15:22:10.620135Z",
     "start_time": "2022-08-02T15:22:10.516167Z"
    }
   },
   "outputs": [
    {
     "data": {
      "text/plain": [
       "CustomerId          True\n",
       "Surname            False\n",
       "CreditScore         True\n",
       "Geography          False\n",
       "Gender             False\n",
       "Age                 True\n",
       "Tenure              True\n",
       "Balance             True\n",
       "NumOfProducts       True\n",
       "HasCrCard           True\n",
       "IsActiveMember      True\n",
       "EstimatedSalary     True\n",
       "Exited              True\n",
       "dtype: bool"
      ]
     },
     "execution_count": 16,
     "metadata": {},
     "output_type": "execute_result"
    }
   ],
   "source": [
    "# Checking for numeric but categorical columns\n",
    "# categorical numeric var[NumOfProducts, HasCrCard, IsActiveMember, Exited]\n",
    "df.dtypes != \"object\""
   ]
  },
  {
   "cell_type": "markdown",
   "id": "7a66eab2",
   "metadata": {},
   "source": [
    "## Defining the Variable types"
   ]
  },
  {
   "cell_type": "code",
   "execution_count": 17,
   "id": "632b0177",
   "metadata": {
    "ExecuteTime": {
     "end_time": "2022-08-02T15:22:10.812138Z",
     "start_time": "2022-08-02T15:22:10.620135Z"
    }
   },
   "outputs": [
    {
     "name": "stdout",
     "output_type": "stream",
     "text": [
      "No Of Observations:10000\n",
      "Variables:13\n",
      "categorical_cols: 6\n",
      "numerical_cols: 6\n",
      "categorical_but_cardinal: 1\n",
      "numerical_but_categorical: 4\n"
     ]
    }
   ],
   "source": [
    "def grab_col_names(dataframe, cat_th=10, car_th=20): # cat_th and car_th values may vary depending on the project\n",
    "    \"\"\"\n",
    "    This function gives the names of categorical, numerical and categorical but cardinal variables in the data set.\n",
    "    Note: Categorical variables with numerical appearance are also included in categorical variables.\n",
    "    Parameters\n",
    "    ------\n",
    "        dataframe: dataframe\n",
    "                The dataframe from which variable names are to be retrieved\n",
    "        cat_th: \n",
    "                class threshold for numeric but categorical variables\n",
    "        car_th:\n",
    "                class threshold for categorical but cardinal variables\n",
    "    Returns\n",
    "    ------\n",
    "        cat_cols: list\n",
    "                categorical variable list\n",
    "        num_cols: list\n",
    "                numeric variable list\n",
    "        cat_but_car: list\n",
    "                categorical but cardinal variable list\n",
    "                \n",
    "    Example\n",
    "    ------\n",
    "        import seaborn as sns\n",
    "        df = sns.load_dataset(\"iris\")\n",
    "        print(grab_col_names(df))\n",
    "    \n",
    "    \"\"\"\n",
    "    # cat_cols, cat_but_car\n",
    "    cat_cols = [col for col in dataframe.columns if dataframe[col].dtypes == \"object\"]\n",
    "    num_but_cat = [col for col in dataframe.columns if dataframe[col].nunique() < cat_th and dataframe[col].dtypes != \"object\"]\n",
    "    cat_but_car = [col for col in dataframe.columns if dataframe[col].nunique() > car_th and dataframe[col].dtypes == \"object\"]\n",
    "    \n",
    "    cat_cols = cat_cols + num_but_cat\n",
    "    cat_cols = [col for col in cat_cols if col not in cat_but_car]\n",
    "    \n",
    "    # num_cols\n",
    "    num_cols = [col for col in dataframe.columns if dataframe[col].dtypes != \"object\"]\n",
    "    num_cols = [col for col in num_cols if col not in num_but_cat]\n",
    "    \n",
    "    print(f'No Of Observations:{dataframe.shape[0]}')\n",
    "    print(f'Variables:{dataframe.shape[1]}')\n",
    "    print(f'categorical_cols: {len(cat_cols)}')\n",
    "    print(f'numerical_cols: {len(num_cols)}')\n",
    "    print(f'categorical_but_cardinal: {len(cat_but_car)}')\n",
    "    print(f'numerical_but_categorical: {len(num_but_cat)}')\n",
    "    return cat_cols, num_cols, cat_but_car\n",
    "\n",
    "cat_cols, num_cols, cat_but_car = grab_col_names(df)\n",
    "    "
   ]
  },
  {
   "cell_type": "markdown",
   "id": "f6420ce0",
   "metadata": {},
   "source": [
    "### Viewing each columns"
   ]
  },
  {
   "cell_type": "code",
   "execution_count": 18,
   "id": "31fa88af",
   "metadata": {
    "ExecuteTime": {
     "end_time": "2022-08-02T15:22:11.004158Z",
     "start_time": "2022-08-02T15:22:10.812138Z"
    }
   },
   "outputs": [
    {
     "data": {
      "text/plain": [
       "['CustomerId', 'CreditScore', 'Age', 'Tenure', 'Balance', 'EstimatedSalary']"
      ]
     },
     "execution_count": 18,
     "metadata": {},
     "output_type": "execute_result"
    }
   ],
   "source": [
    "# Numerical Columns\n",
    "num_cols"
   ]
  },
  {
   "cell_type": "markdown",
   "id": "94659792",
   "metadata": {},
   "source": [
    "**CustomerId** would be removed during later analysis"
   ]
  },
  {
   "cell_type": "markdown",
   "id": "8420f423",
   "metadata": {},
   "source": [
    "**We can add CustomerId to categoric but cardinal columns but customerID might not be useful for modelling**"
   ]
  },
  {
   "cell_type": "code",
   "execution_count": 19,
   "id": "3946dfb3",
   "metadata": {
    "ExecuteTime": {
     "end_time": "2022-08-02T15:22:11.108090Z",
     "start_time": "2022-08-02T15:22:11.004158Z"
    }
   },
   "outputs": [
    {
     "data": {
      "text/plain": [
       "['Surname']"
      ]
     },
     "execution_count": 19,
     "metadata": {},
     "output_type": "execute_result"
    }
   ],
   "source": [
    "# Categorical but Cardinal column\n",
    "cat_but_car"
   ]
  },
  {
   "cell_type": "code",
   "execution_count": 20,
   "id": "871f5281",
   "metadata": {
    "ExecuteTime": {
     "end_time": "2022-08-02T15:22:11.228079Z",
     "start_time": "2022-08-02T15:22:11.108090Z"
    }
   },
   "outputs": [
    {
     "data": {
      "text/plain": [
       "['Geography',\n",
       " 'Gender',\n",
       " 'NumOfProducts',\n",
       " 'HasCrCard',\n",
       " 'IsActiveMember',\n",
       " 'Exited']"
      ]
     },
     "execution_count": 20,
     "metadata": {},
     "output_type": "execute_result"
    }
   ],
   "source": [
    "# Categorical columns including numeric but categorical columns(variables)\n",
    "cat_cols"
   ]
  },
  {
   "cell_type": "markdown",
   "id": "57eb17c5",
   "metadata": {},
   "source": [
    "Categorical Columns with the Target column **Exited**"
   ]
  },
  {
   "cell_type": "markdown",
   "id": "31e10168",
   "metadata": {
    "ExecuteTime": {
     "end_time": "2022-07-16T22:04:49.066682Z",
     "start_time": "2022-07-16T22:04:49.055692Z"
    }
   },
   "source": [
    "##  Visual Exploration of Categorical Variables"
   ]
  },
  {
   "cell_type": "code",
   "execution_count": 21,
   "id": "b5e78f91",
   "metadata": {
    "ExecuteTime": {
     "end_time": "2022-08-02T15:22:11.356070Z",
     "start_time": "2022-08-02T15:22:11.228079Z"
    }
   },
   "outputs": [],
   "source": [
    "# Defining a plot function\n",
    "def count_plot(dataframe, col_name):\n",
    "    \"\"\"This function plots barplots and prints a dataframe with\n",
    "    the feature distribution and proportion of Exited customers for each column name given\n",
    "    \"\"\"\n",
    "    fig, axes = plt.subplots(1, 2, figsize=(13,6))\n",
    "    sns.countplot(x=col_name, data=df, ax=axes[0])\n",
    "    sns.countplot(x=col_name, data=df, hue='Exited', ax=axes[1])\n",
    "    \n",
    "    print(pd.DataFrame({col_name: dataframe[col_name].value_counts(),\n",
    "                       \"Ratio\": 100 * dataframe[col_name].value_counts()/ len(dataframe),\n",
    "                       \"Churn%\": dataframe.groupby(col_name)['Exited'].mean()*100}))"
   ]
  },
  {
   "cell_type": "markdown",
   "id": "f62158ce",
   "metadata": {
    "ExecuteTime": {
     "end_time": "2022-07-16T22:05:40.915074Z",
     "start_time": "2022-07-16T22:05:40.897086Z"
    }
   },
   "source": [
    "### Geography"
   ]
  },
  {
   "cell_type": "code",
   "execution_count": 23,
   "id": "cadb25ee",
   "metadata": {
    "ExecuteTime": {
     "end_time": "2022-08-02T15:22:13.705316Z",
     "start_time": "2022-08-02T15:22:11.484082Z"
    }
   },
   "outputs": [
    {
     "name": "stdout",
     "output_type": "stream",
     "text": [
      "         Geography  Ratio  Churn%\n",
      "France        5014 50.140  16.155\n",
      "Germany       2509 25.090  32.443\n",
      "Spain         2477 24.770  16.673\n"
     ]
    },
    {
     "data": {
      "image/png": "[encoded data removed]",
      "text/plain": [
       "<Figure size 936x432 with 2 Axes>"
      ]
     },
     "metadata": {
      "needs_background": "light"
     },
     "output_type": "display_data"
    }
   ],
   "source": [
    "# We'll be looking at the proportion of the different geographical locations in the dataset using a count plot\n",
    "# We'll also be looking at how Geography relates to Exited\n",
    "count_plot(df, 'Geography')"
   ]
  },
  {
   "cell_type": "markdown",
   "id": "08ff9ba2",
   "metadata": {},
   "source": [
    "**The bank had most of its customers from France(50.14%) and had similar percentages of customers 25.09% & 24.77% for Germany and spain respectively. France and spain had similar customer churn of 16% & 17% respectively i.e approximately 800 customers terminated their accounts from both countries**"
   ]
  },
  {
   "cell_type": "markdown",
   "id": "4316e65a",
   "metadata": {},
   "source": [
    "### Gender"
   ]
  },
  {
   "cell_type": "code",
   "execution_count": 24,
   "id": "1575b93a",
   "metadata": {
    "ExecuteTime": {
     "end_time": "2022-08-02T15:22:14.121314Z",
     "start_time": "2022-08-02T15:22:13.705316Z"
    }
   },
   "outputs": [
    {
     "name": "stdout",
     "output_type": "stream",
     "text": [
      "        Gender  Ratio  Churn%\n",
      "Female    4543 45.430  25.072\n",
      "Male      5457 54.570  16.456\n"
     ]
    },
    {
     "data": {
      "image/png": "[encoded data removed]",
      "text/plain": [
       "<Figure size 936x432 with 2 Axes>"
      ]
     },
     "metadata": {
      "needs_background": "light"
     },
     "output_type": "display_data"
    }
   ],
   "source": [
    "count_plot(df, 'Gender')"
   ]
  },
  {
   "cell_type": "markdown",
   "id": "cfcd7e4e",
   "metadata": {},
   "source": [
    "**There are more Male(54.57%) than female(45.43%) customers. We have more Female customers with a churn rate of 25.07% with a value over 1000 and the male churn rate is 16.46% with a value just below 1000"
   ]
  },
  {
   "cell_type": "markdown",
   "id": "c0a2994d",
   "metadata": {},
   "source": [
    "### Number of Product"
   ]
  },
  {
   "cell_type": "code",
   "execution_count": 25,
   "id": "1bb71639",
   "metadata": {
    "ExecuteTime": {
     "end_time": "2022-08-02T15:22:14.593212Z",
     "start_time": "2022-08-02T15:22:14.121314Z"
    }
   },
   "outputs": [
    {
     "name": "stdout",
     "output_type": "stream",
     "text": [
      "   NumOfProducts  Ratio  Churn%\n",
      "1           5084 50.840  27.714\n",
      "2           4590 45.900   7.582\n",
      "3            266  2.660  82.707\n",
      "4             60  0.600 100.000\n"
     ]
    },
    {
     "data": {
      "image/png": "[encoded data removed]",
      "text/plain": [
       "<Figure size 936x432 with 2 Axes>"
      ]
     },
     "metadata": {
      "needs_background": "light"
     },
     "output_type": "display_data"
    }
   ],
   "source": [
    "count_plot(df, 'NumOfProducts')"
   ]
  },
  {
   "cell_type": "markdown",
   "id": "4d4b3511",
   "metadata": {},
   "source": [
    "**Customer with more number of products are less likely to churn. Although we can see from the plot that all the customer with 4 number of products all terminated their account with the bank. Customers with less number of product churned the most"
   ]
  },
  {
   "cell_type": "markdown",
   "id": "a30de519",
   "metadata": {
    "ExecuteTime": {
     "end_time": "2022-07-18T22:22:45.645443Z",
     "start_time": "2022-07-18T22:22:45.557473Z"
    }
   },
   "source": [
    "### Has Credit Card "
   ]
  },
  {
   "cell_type": "code",
   "execution_count": 26,
   "id": "861a4f24",
   "metadata": {
    "ExecuteTime": {
     "end_time": "2022-08-02T15:22:15.033231Z",
     "start_time": "2022-08-02T15:22:14.593212Z"
    }
   },
   "outputs": [
    {
     "name": "stdout",
     "output_type": "stream",
     "text": [
      "   HasCrCard  Ratio  Churn%\n",
      "0       2945 29.450  20.815\n",
      "1       7055 70.550  20.184\n"
     ]
    },
    {
     "data": {
      "image/png": "[encoded data removed]",
      "text/plain": [
       "<Figure size 936x432 with 2 Axes>"
      ]
     },
     "metadata": {
      "needs_background": "light"
     },
     "output_type": "display_data"
    }
   ],
   "source": [
    "count_plot(df, 'HasCrCard')"
   ]
  },
  {
   "cell_type": "markdown",
   "id": "980bec4a",
   "metadata": {},
   "source": [
    "**Customers who have credited card terminated their account more than customers who don't have credit card according to the trend shown in the plot"
   ]
  },
  {
   "cell_type": "markdown",
   "id": "5491ee39",
   "metadata": {},
   "source": [
    "### Is an Active Member"
   ]
  },
  {
   "cell_type": "code",
   "execution_count": 27,
   "id": "a3a595a4",
   "metadata": {
    "ExecuteTime": {
     "end_time": "2022-08-02T15:22:15.417152Z",
     "start_time": "2022-08-02T15:22:15.033231Z"
    }
   },
   "outputs": [
    {
     "name": "stdout",
     "output_type": "stream",
     "text": [
      "   IsActiveMember  Ratio  Churn%\n",
      "0            4849 48.490  26.851\n",
      "1            5151 51.510  14.269\n"
     ]
    },
    {
     "data": {
      "image/png": "[encoded data removed]",
      "text/plain": [
       "<Figure size 936x432 with 2 Axes>"
      ]
     },
     "metadata": {
      "needs_background": "light"
     },
     "output_type": "display_data"
    }
   ],
   "source": [
    "count_plot(df, 'IsActiveMember')"
   ]
  },
  {
   "cell_type": "markdown",
   "id": "b51cab46",
   "metadata": {},
   "source": [
    "Members who aren't active terminated their accounts more than the active members.\n",
    "- There are More active than non-active customers\n",
    "- According to the plot above non-active members had an higher churn percent(25.85%) than active members whose churn is(14.27%)"
   ]
  },
  {
   "cell_type": "markdown",
   "id": "372c9a20",
   "metadata": {},
   "source": [
    "### Exited"
   ]
  },
  {
   "cell_type": "code",
   "execution_count": 28,
   "id": "6fa8154b",
   "metadata": {
    "ExecuteTime": {
     "end_time": "2022-08-02T15:22:15.665173Z",
     "start_time": "2022-08-02T15:22:15.425139Z"
    }
   },
   "outputs": [
    {
     "name": "stdout",
     "output_type": "stream",
     "text": [
      "0    7963\n",
      "1    2037\n",
      "Name: Exited, dtype: int64\n"
     ]
    },
    {
     "data": {
      "text/plain": [
       "<AxesSubplot:xlabel='Exited', ylabel='count'>"
      ]
     },
     "execution_count": 28,
     "metadata": {},
     "output_type": "execute_result"
    },
    {
     "data": {
      "image/png": "[encoded data removed]",
      "text/plain": [
       "<Figure size 480x400 with 1 Axes>"
      ]
     },
     "metadata": {
      "needs_background": "light"
     },
     "output_type": "display_data"
    }
   ],
   "source": [
    "# Using countplot\n",
    "print(df['Exited'].value_counts())\n",
    "plt.figure(dpi=80, figsize=(6,5))\n",
    "sns.countplot(x='Exited', data=df)"
   ]
  },
  {
   "cell_type": "markdown",
   "id": "885120a2",
   "metadata": {},
   "source": [
    "From the plot above we can deduce;\n",
    "- approximatly 20% of the accounts from the dataset ended up been closed.\n",
    "- approximately 79% of customers still retained their account\n",
    "- There is a class Inbalance in the DataSet"
   ]
  },
  {
   "cell_type": "markdown",
   "id": "ab9e9bb9",
   "metadata": {},
   "source": [
    "## Exploration of Numerical variable"
   ]
  },
  {
   "cell_type": "code",
   "execution_count": 30,
   "id": "7d67bd55",
   "metadata": {
    "ExecuteTime": {
     "end_time": "2022-08-02T15:22:15.793103Z",
     "start_time": "2022-08-02T15:22:15.681138Z"
    }
   },
   "outputs": [],
   "source": [
    "# We'll be removing CustomerId from the numeric_columns(num_cols)\n",
    "num_cols.remove('CustomerId')"
   ]
  },
  {
   "cell_type": "code",
   "execution_count": 31,
   "id": "4a51f059",
   "metadata": {
    "ExecuteTime": {
     "end_time": "2022-08-02T15:22:15.921108Z",
     "start_time": "2022-08-02T15:22:15.793103Z"
    }
   },
   "outputs": [
    {
     "data": {
      "text/plain": [
       "['CreditScore', 'Age', 'Tenure', 'Balance', 'EstimatedSalary']"
      ]
     },
     "execution_count": 31,
     "metadata": {},
     "output_type": "execute_result"
    }
   ],
   "source": [
    "num_cols"
   ]
  },
  {
   "cell_type": "code",
   "execution_count": 33,
   "id": "67943052",
   "metadata": {
    "ExecuteTime": {
     "end_time": "2022-08-02T15:22:18.181921Z",
     "start_time": "2022-08-02T15:22:16.033139Z"
    }
   },
   "outputs": [
    {
     "data": {
      "image/png": "[encoded data removed]",
      "text/plain": [
       "<Figure size 1152x864 with 5 Axes>"
      ]
     },
     "metadata": {
      "needs_background": "light"
     },
     "output_type": "display_data"
    }
   ],
   "source": [
    "n=1\n",
    "numerical_col = num_cols\n",
    "plt.figure(figsize=(16,12))\n",
    "# Histogram plots of numerical_col variables\n",
    "for col_name in numerical_col:\n",
    "    plt.subplot(2,3,n)\n",
    "    ax=sns.histplot(data=df[col_name], kde=True, bins=8)\n",
    "    plt.xlabel(col_name)\n",
    "    n+=1\n",
    "plt.show()"
   ]
  },
  {
   "cell_type": "markdown",
   "id": "7d2d4aa2",
   "metadata": {},
   "source": [
    "## Looking at the Correlation Matrix of variables"
   ]
  },
  {
   "cell_type": "code",
   "execution_count": 34,
   "id": "d993db1e",
   "metadata": {
    "ExecuteTime": {
     "end_time": "2022-08-02T15:22:19.373364Z",
     "start_time": "2022-08-02T15:22:18.182010Z"
    },
    "scrolled": false
   },
   "outputs": [
    {
     "data": {
      "text/plain": [
       "<AxesSubplot:>"
      ]
     },
     "execution_count": 34,
     "metadata": {},
     "output_type": "execute_result"
    },
    {
     "data": {
      "image/png": "[encoded data removed]",
      "text/plain": [
       "<Figure size 864x576 with 2 Axes>"
      ]
     },
     "metadata": {
      "needs_background": "light"
     },
     "output_type": "display_data"
    }
   ],
   "source": [
    "plt.figure(figsize=(12,8))\n",
    "sns.heatmap(df.corr(), annot=True)"
   ]
  },
  {
   "cell_type": "markdown",
   "id": "1ea63516",
   "metadata": {},
   "source": [
    "We can confirm after looking at the heatmap above that there's no form of correlation or dependencies between the variables due to the low correlation value, which is below the allowable range of above 0.4. All correlation values are below 0.4\n",
    "\n",
    "- NumOfProducts and Balance had the highest correlation of -0.3\n",
    "- We'll View the NumOfProduct and Balance and how it relates to Exited"
   ]
  },
  {
   "cell_type": "markdown",
   "id": "f01a0ba2",
   "metadata": {},
   "source": [
    "### Clustering analysis of NumOfProduct and Balance as it relates to Exited"
   ]
  },
  {
   "cell_type": "code",
   "execution_count": 35,
   "id": "5a10b22f",
   "metadata": {
    "ExecuteTime": {
     "end_time": "2022-08-02T15:22:23.673359Z",
     "start_time": "2022-08-02T15:22:19.373364Z"
    }
   },
   "outputs": [
    {
     "data": {
      "text/html": [
       "<div>\n",
       "<style scoped>\n",
       "    .dataframe tbody tr th:only-of-type {\n",
       "        vertical-align: middle;\n",
       "    }\n",
       "\n",
       "    .dataframe tbody tr th {\n",
       "        vertical-align: top;\n",
       "    }\n",
       "\n",
       "    .dataframe thead th {\n",
       "        text-align: right;\n",
       "    }\n",
       "</style>\n",
       "<table border=\"1\" class=\"dataframe\">\n",
       "  <thead>\n",
       "    <tr style=\"text-align: right;\">\n",
       "      <th></th>\n",
       "      <th>Exited</th>\n",
       "      <th>NumOfProducts</th>\n",
       "      <th>Balance</th>\n",
       "    </tr>\n",
       "  </thead>\n",
       "  <tbody>\n",
       "    <tr>\n",
       "      <th>0</th>\n",
       "      <td>1</td>\n",
       "      <td>1</td>\n",
       "      <td>0.000</td>\n",
       "    </tr>\n",
       "    <tr>\n",
       "      <th>1</th>\n",
       "      <td>0</td>\n",
       "      <td>1</td>\n",
       "      <td>83807.860</td>\n",
       "    </tr>\n",
       "    <tr>\n",
       "      <th>2</th>\n",
       "      <td>1</td>\n",
       "      <td>3</td>\n",
       "      <td>159660.800</td>\n",
       "    </tr>\n",
       "    <tr>\n",
       "      <th>3</th>\n",
       "      <td>0</td>\n",
       "      <td>2</td>\n",
       "      <td>0.000</td>\n",
       "    </tr>\n",
       "    <tr>\n",
       "      <th>4</th>\n",
       "      <td>0</td>\n",
       "      <td>1</td>\n",
       "      <td>125510.820</td>\n",
       "    </tr>\n",
       "  </tbody>\n",
       "</table>\n",
       "</div>"
      ],
      "text/plain": [
       "   Exited  NumOfProducts    Balance\n",
       "0       1              1      0.000\n",
       "1       0              1  83807.860\n",
       "2       1              3 159660.800\n",
       "3       0              2      0.000\n",
       "4       0              1 125510.820"
      ]
     },
     "execution_count": 35,
     "metadata": {},
     "output_type": "execute_result"
    }
   ],
   "source": [
    "from sklearn.cluster import KMeans\n",
    "# Preparing the plot environment\n",
    "plt.style.use(\"seaborn-whitegrid\")\n",
    "plt.rc(\"figure\", autolayout=True)\n",
    "plt.rc(\n",
    "    \"axes\",\n",
    "    labelweight=\"bold\",\n",
    "    labelsize=\"large\",\n",
    "    titleweight=\"bold\",\n",
    "    titlesize=14,\n",
    "    titlepad=10,\n",
    ")\n",
    "\n",
    "X_cluster = df.loc[:, [\"Exited\",\"NumOfProducts\",\"Balance\"]]\n",
    "X_cluster.head()"
   ]
  },
  {
   "cell_type": "code",
   "execution_count": 36,
   "id": "45bb3ca7",
   "metadata": {
    "ExecuteTime": {
     "end_time": "2022-08-02T15:22:25.031733Z",
     "start_time": "2022-08-02T15:22:23.673359Z"
    }
   },
   "outputs": [
    {
     "data": {
      "text/html": [
       "<div>\n",
       "<style scoped>\n",
       "    .dataframe tbody tr th:only-of-type {\n",
       "        vertical-align: middle;\n",
       "    }\n",
       "\n",
       "    .dataframe tbody tr th {\n",
       "        vertical-align: top;\n",
       "    }\n",
       "\n",
       "    .dataframe thead th {\n",
       "        text-align: right;\n",
       "    }\n",
       "</style>\n",
       "<table border=\"1\" class=\"dataframe\">\n",
       "  <thead>\n",
       "    <tr style=\"text-align: right;\">\n",
       "      <th></th>\n",
       "      <th>Exited</th>\n",
       "      <th>NumOfProducts</th>\n",
       "      <th>Balance</th>\n",
       "      <th>Clusters</th>\n",
       "    </tr>\n",
       "  </thead>\n",
       "  <tbody>\n",
       "    <tr>\n",
       "      <th>0</th>\n",
       "      <td>1</td>\n",
       "      <td>1</td>\n",
       "      <td>0.000</td>\n",
       "      <td>0</td>\n",
       "    </tr>\n",
       "    <tr>\n",
       "      <th>1</th>\n",
       "      <td>0</td>\n",
       "      <td>1</td>\n",
       "      <td>83807.860</td>\n",
       "      <td>2</td>\n",
       "    </tr>\n",
       "    <tr>\n",
       "      <th>2</th>\n",
       "      <td>1</td>\n",
       "      <td>3</td>\n",
       "      <td>159660.800</td>\n",
       "      <td>3</td>\n",
       "    </tr>\n",
       "    <tr>\n",
       "      <th>3</th>\n",
       "      <td>0</td>\n",
       "      <td>2</td>\n",
       "      <td>0.000</td>\n",
       "      <td>0</td>\n",
       "    </tr>\n",
       "    <tr>\n",
       "      <th>4</th>\n",
       "      <td>0</td>\n",
       "      <td>1</td>\n",
       "      <td>125510.820</td>\n",
       "      <td>1</td>\n",
       "    </tr>\n",
       "  </tbody>\n",
       "</table>\n",
       "</div>"
      ],
      "text/plain": [
       "   Exited  NumOfProducts    Balance Clusters\n",
       "0       1              1      0.000        0\n",
       "1       0              1  83807.860        2\n",
       "2       1              3 159660.800        3\n",
       "3       0              2      0.000        0\n",
       "4       0              1 125510.820        1"
      ]
     },
     "execution_count": 36,
     "metadata": {},
     "output_type": "execute_result"
    }
   ],
   "source": [
    "# Clustering using 4 Clusters\n",
    "kmeans = KMeans(n_clusters=4)\n",
    "X_cluster['Clusters'] = kmeans.fit_predict(X_cluster)\n",
    "X_cluster['Clusters'] = X_cluster['Clusters'].astype('category')\n",
    "X_cluster.head()"
   ]
  },
  {
   "cell_type": "code",
   "execution_count": 37,
   "id": "1bf85182",
   "metadata": {
    "ExecuteTime": {
     "end_time": "2022-08-02T15:22:26.648891Z",
     "start_time": "2022-08-02T15:22:25.031733Z"
    }
   },
   "outputs": [
    {
     "data": {
      "image/png": "[encoded data removed]",
      "text/plain": [
       "<Figure size 484.925x432 with 1 Axes>"
      ]
     },
     "metadata": {},
     "output_type": "display_data"
    }
   ],
   "source": [
    "#a scatter plot that shows the distribution of the clusters.\n",
    "sns.relplot(\n",
    "    x=\"Balance\", y=\"NumOfProducts\", hue=\"Clusters\", data=X_cluster, height=6,\n",
    ");"
   ]
  },
  {
   "cell_type": "markdown",
   "id": "a6cb1c05",
   "metadata": {},
   "source": [
    "From the cluster analysis, we can see that clusters 1 & 2 represents customers that Exited. From the scatter plot we can see that they are more prevalent in 1 NumOfProducts and 2 NumberOfProducts. They also have lower balances."
   ]
  },
  {
   "cell_type": "markdown",
   "id": "5a98b8c5",
   "metadata": {},
   "source": [
    "## Feature Selection"
   ]
  },
  {
   "cell_type": "markdown",
   "id": "e908e4bd",
   "metadata": {},
   "source": [
    "### Creating the Feature Matrix\n",
    "\n",
    "We droped Surname column because it won't be relevant during our modelling process\n",
    "- This would be used for Mutual information scoring in our next step before splitting into training and testing data"
   ]
  },
  {
   "cell_type": "code",
   "execution_count": 38,
   "id": "6e8f7faa",
   "metadata": {
    "ExecuteTime": {
     "end_time": "2022-08-02T15:22:26.664908Z",
     "start_time": "2022-08-02T15:22:26.648891Z"
    }
   },
   "outputs": [],
   "source": [
    "X_first = df.loc[:, 'CreditScore':'EstimatedSalary'].copy()\n",
    "y_first = df.Exited"
   ]
  },
  {
   "cell_type": "markdown",
   "id": "81c47f83",
   "metadata": {},
   "source": [
    "### Mutual Information Scoring"
   ]
  },
  {
   "cell_type": "markdown",
   "id": "22168f69",
   "metadata": {},
   "source": [
    "We'll be constructing a ranking with a **feature utility metric**, which is MUTUAL INFORMATION; This will measure the association between a feature and the target. Then we'll choose a smaller set of the most useful features for our modelling."
   ]
  },
  {
   "cell_type": "code",
   "execution_count": 39,
   "id": "04edef8b",
   "metadata": {
    "ExecuteTime": {
     "end_time": "2022-08-02T15:22:26.792879Z",
     "start_time": "2022-08-02T15:22:26.664908Z"
    }
   },
   "outputs": [],
   "source": [
    "# We'll be working with discrete features, for the MI\n",
    "categorical_var=[cname for cname in X_first.columns if X_first[cname].dtypes == 'O']\n",
    "\n",
    "# Creating a list of discrete feature names\n",
    "discrete_features = categorical_var + ['HasCrCard','IsActiveMember']\n",
    "\n",
    "# We'll Ordinal Encode the discrete_features\n",
    "# Importing libraries\n",
    "from sklearn.preprocessing import OneHotEncoder\n",
    "from sklearn.preprocessing import OrdinalEncoder\n",
    "\n",
    "ordinal = OrdinalEncoder(dtype = 'int32')\n",
    "\n",
    "# We'll create of copy of our x and y for MI \n",
    "X_mutual = X_first.copy()\n",
    "y_mutual = y_first.copy()\n",
    "\n",
    "# Let's encode the categorical data\n",
    "X_mutual[categorical_var] = ordinal.fit_transform(X_mutual[categorical_var])\n",
    "\n",
    "\n"
   ]
  },
  {
   "cell_type": "markdown",
   "id": "a56ce6bd",
   "metadata": {
    "ExecuteTime": {
     "end_time": "2022-07-26T15:05:03.273960Z",
     "start_time": "2022-07-26T15:05:01.576228Z"
    }
   },
   "source": [
    "### Mutual information"
   ]
  },
  {
   "cell_type": "code",
   "execution_count": 40,
   "id": "a5bcbf3f",
   "metadata": {
    "ExecuteTime": {
     "end_time": "2022-08-02T15:22:27.889977Z",
     "start_time": "2022-08-02T15:22:26.792879Z"
    }
   },
   "outputs": [
    {
     "data": {
      "text/plain": [
       "Age               0.075\n",
       "NumOfProducts     0.074\n",
       "CreditScore       0.027\n",
       "Geography         0.014\n",
       "IsActiveMember    0.010\n",
       "Balance           0.009\n",
       "HasCrCard         0.006\n",
       "Gender            0.006\n",
       "EstimatedSalary   0.003\n",
       "Tenure            0.001\n",
       "Name: MI Scores, dtype: float64"
      ]
     },
     "execution_count": 40,
     "metadata": {},
     "output_type": "execute_result"
    }
   ],
   "source": [
    "# Importing the library\n",
    "from sklearn.feature_selection import mutual_info_classif\n",
    "\n",
    "# Writing a function to make MI scores\n",
    "def make_mi_scores(X, y, discrete_features):\n",
    "    mi_scores = mutual_info_classif(X, y, discrete_features=X[discrete_features])\n",
    "    mi_scores = pd.Series(mi_scores, name='MI Scores', index=X.columns)\n",
    "    mi_scores = mi_scores.sort_values(ascending=False)\n",
    "    return mi_scores\n",
    "\n",
    "mi_scores = make_mi_scores(X_mutual, y_mutual, discrete_features)\n",
    "mi_scores"
   ]
  },
  {
   "cell_type": "markdown",
   "id": "10e6d8ca",
   "metadata": {},
   "source": [
    "#### Viewing the MI scoring"
   ]
  },
  {
   "cell_type": "code",
   "execution_count": 41,
   "id": "6cb3d239",
   "metadata": {
    "ExecuteTime": {
     "end_time": "2022-08-02T15:22:28.346031Z",
     "start_time": "2022-08-02T15:22:27.890049Z"
    }
   },
   "outputs": [
    {
     "data": {
      "text/plain": [
       "Text(0.5, 1.0, 'Mutual Information of Features')"
      ]
     },
     "execution_count": 41,
     "metadata": {},
     "output_type": "execute_result"
    },
    {
     "data": {
      "image/png": "[encoded data removed]",
      "text/plain": [
       "<Figure size 600x400 with 1 Axes>"
      ]
     },
     "metadata": {},
     "output_type": "display_data"
    }
   ],
   "source": [
    "# A bar plot to make comparisons easier\n",
    "plt.figure(dpi=100)\n",
    "sns.barplot(x = mi_scores.values, y = mi_scores.index)\n",
    "plt.title('Mutual Information of Features')"
   ]
  },
  {
   "cell_type": "markdown",
   "id": "36e5567d",
   "metadata": {},
   "source": [
    "From the barplot we can see that the highest mutual information scores were NumOfProducts, Age and CreditScore.\n",
    "\n",
    "For our model, we'll include all"
   ]
  },
  {
   "cell_type": "markdown",
   "id": "c8be7829",
   "metadata": {},
   "source": [
    "#### Creating Another Feature Matrix for our Model\n",
    "Based on the MI scores\n",
    "- A validation set would also be created"
   ]
  },
  {
   "cell_type": "code",
   "execution_count": 42,
   "id": "5b45e5d3",
   "metadata": {
    "ExecuteTime": {
     "end_time": "2022-08-02T15:22:28.362008Z",
     "start_time": "2022-08-02T15:22:28.346031Z"
    }
   },
   "outputs": [],
   "source": [
    "# Let's select the features for our model\n",
    "model_features = [ i for i in mi_scores.index[:10]] # That is selecting all features\n",
    "\n",
    "# Reassinging for our feature matrix X_new = X_first[model_features]\n",
    "X_new = X_first[model_features]\n"
   ]
  },
  {
   "cell_type": "code",
   "execution_count": 43,
   "id": "12b1a424",
   "metadata": {
    "ExecuteTime": {
     "end_time": "2022-08-02T15:22:28.570014Z",
     "start_time": "2022-08-02T15:22:28.362008Z"
    }
   },
   "outputs": [
    {
     "data": {
      "text/html": [
       "<div>\n",
       "<style scoped>\n",
       "    .dataframe tbody tr th:only-of-type {\n",
       "        vertical-align: middle;\n",
       "    }\n",
       "\n",
       "    .dataframe tbody tr th {\n",
       "        vertical-align: top;\n",
       "    }\n",
       "\n",
       "    .dataframe thead th {\n",
       "        text-align: right;\n",
       "    }\n",
       "</style>\n",
       "<table border=\"1\" class=\"dataframe\">\n",
       "  <thead>\n",
       "    <tr style=\"text-align: right;\">\n",
       "      <th></th>\n",
       "      <th>Age</th>\n",
       "      <th>NumOfProducts</th>\n",
       "      <th>CreditScore</th>\n",
       "      <th>Geography</th>\n",
       "      <th>IsActiveMember</th>\n",
       "      <th>Balance</th>\n",
       "      <th>HasCrCard</th>\n",
       "      <th>Gender</th>\n",
       "      <th>EstimatedSalary</th>\n",
       "      <th>Tenure</th>\n",
       "    </tr>\n",
       "  </thead>\n",
       "  <tbody>\n",
       "    <tr>\n",
       "      <th>0</th>\n",
       "      <td>42</td>\n",
       "      <td>1</td>\n",
       "      <td>619</td>\n",
       "      <td>France</td>\n",
       "      <td>1</td>\n",
       "      <td>0.000</td>\n",
       "      <td>1</td>\n",
       "      <td>Female</td>\n",
       "      <td>101348.880</td>\n",
       "      <td>2</td>\n",
       "    </tr>\n",
       "    <tr>\n",
       "      <th>1</th>\n",
       "      <td>41</td>\n",
       "      <td>1</td>\n",
       "      <td>608</td>\n",
       "      <td>Spain</td>\n",
       "      <td>1</td>\n",
       "      <td>83807.860</td>\n",
       "      <td>0</td>\n",
       "      <td>Female</td>\n",
       "      <td>112542.580</td>\n",
       "      <td>1</td>\n",
       "    </tr>\n",
       "    <tr>\n",
       "      <th>2</th>\n",
       "      <td>42</td>\n",
       "      <td>3</td>\n",
       "      <td>502</td>\n",
       "      <td>France</td>\n",
       "      <td>0</td>\n",
       "      <td>159660.800</td>\n",
       "      <td>1</td>\n",
       "      <td>Female</td>\n",
       "      <td>113931.570</td>\n",
       "      <td>8</td>\n",
       "    </tr>\n",
       "    <tr>\n",
       "      <th>3</th>\n",
       "      <td>39</td>\n",
       "      <td>2</td>\n",
       "      <td>699</td>\n",
       "      <td>France</td>\n",
       "      <td>0</td>\n",
       "      <td>0.000</td>\n",
       "      <td>0</td>\n",
       "      <td>Female</td>\n",
       "      <td>93826.630</td>\n",
       "      <td>1</td>\n",
       "    </tr>\n",
       "    <tr>\n",
       "      <th>4</th>\n",
       "      <td>43</td>\n",
       "      <td>1</td>\n",
       "      <td>850</td>\n",
       "      <td>Spain</td>\n",
       "      <td>1</td>\n",
       "      <td>125510.820</td>\n",
       "      <td>1</td>\n",
       "      <td>Female</td>\n",
       "      <td>79084.100</td>\n",
       "      <td>2</td>\n",
       "    </tr>\n",
       "  </tbody>\n",
       "</table>\n",
       "</div>"
      ],
      "text/plain": [
       "   Age  NumOfProducts  CreditScore Geography  IsActiveMember    Balance  \\\n",
       "0   42              1          619    France               1      0.000   \n",
       "1   41              1          608     Spain               1  83807.860   \n",
       "2   42              3          502    France               0 159660.800   \n",
       "3   39              2          699    France               0      0.000   \n",
       "4   43              1          850     Spain               1 125510.820   \n",
       "\n",
       "   HasCrCard  Gender  EstimatedSalary  Tenure  \n",
       "0          1  Female       101348.880       2  \n",
       "1          0  Female       112542.580       1  \n",
       "2          1  Female       113931.570       8  \n",
       "3          0  Female        93826.630       1  \n",
       "4          1  Female        79084.100       2  "
      ]
     },
     "execution_count": 43,
     "metadata": {},
     "output_type": "execute_result"
    }
   ],
   "source": [
    "X_new.head()"
   ]
  },
  {
   "cell_type": "code",
   "execution_count": 44,
   "id": "eb94f9ea",
   "metadata": {
    "ExecuteTime": {
     "end_time": "2022-08-02T15:22:28.697985Z",
     "start_time": "2022-08-02T15:22:28.570014Z"
    }
   },
   "outputs": [
    {
     "data": {
      "text/html": [
       "<div>\n",
       "<style scoped>\n",
       "    .dataframe tbody tr th:only-of-type {\n",
       "        vertical-align: middle;\n",
       "    }\n",
       "\n",
       "    .dataframe tbody tr th {\n",
       "        vertical-align: top;\n",
       "    }\n",
       "\n",
       "    .dataframe thead th {\n",
       "        text-align: right;\n",
       "    }\n",
       "</style>\n",
       "<table border=\"1\" class=\"dataframe\">\n",
       "  <thead>\n",
       "    <tr style=\"text-align: right;\">\n",
       "      <th></th>\n",
       "      <th>Age</th>\n",
       "      <th>NumOfProducts</th>\n",
       "      <th>CreditScore</th>\n",
       "      <th>IsActiveMember</th>\n",
       "      <th>Balance</th>\n",
       "      <th>HasCrCard</th>\n",
       "      <th>EstimatedSalary</th>\n",
       "      <th>Tenure</th>\n",
       "      <th>Geography_France</th>\n",
       "      <th>Geography_Germany</th>\n",
       "      <th>Geography_Spain</th>\n",
       "      <th>Gender_Female</th>\n",
       "      <th>Gender_Male</th>\n",
       "    </tr>\n",
       "  </thead>\n",
       "  <tbody>\n",
       "    <tr>\n",
       "      <th>0</th>\n",
       "      <td>42</td>\n",
       "      <td>1</td>\n",
       "      <td>619</td>\n",
       "      <td>1</td>\n",
       "      <td>0.000</td>\n",
       "      <td>1</td>\n",
       "      <td>101348.880</td>\n",
       "      <td>2</td>\n",
       "      <td>1</td>\n",
       "      <td>0</td>\n",
       "      <td>0</td>\n",
       "      <td>1</td>\n",
       "      <td>0</td>\n",
       "    </tr>\n",
       "    <tr>\n",
       "      <th>1</th>\n",
       "      <td>41</td>\n",
       "      <td>1</td>\n",
       "      <td>608</td>\n",
       "      <td>1</td>\n",
       "      <td>83807.860</td>\n",
       "      <td>0</td>\n",
       "      <td>112542.580</td>\n",
       "      <td>1</td>\n",
       "      <td>0</td>\n",
       "      <td>0</td>\n",
       "      <td>1</td>\n",
       "      <td>1</td>\n",
       "      <td>0</td>\n",
       "    </tr>\n",
       "    <tr>\n",
       "      <th>2</th>\n",
       "      <td>42</td>\n",
       "      <td>3</td>\n",
       "      <td>502</td>\n",
       "      <td>0</td>\n",
       "      <td>159660.800</td>\n",
       "      <td>1</td>\n",
       "      <td>113931.570</td>\n",
       "      <td>8</td>\n",
       "      <td>1</td>\n",
       "      <td>0</td>\n",
       "      <td>0</td>\n",
       "      <td>1</td>\n",
       "      <td>0</td>\n",
       "    </tr>\n",
       "    <tr>\n",
       "      <th>3</th>\n",
       "      <td>39</td>\n",
       "      <td>2</td>\n",
       "      <td>699</td>\n",
       "      <td>0</td>\n",
       "      <td>0.000</td>\n",
       "      <td>0</td>\n",
       "      <td>93826.630</td>\n",
       "      <td>1</td>\n",
       "      <td>1</td>\n",
       "      <td>0</td>\n",
       "      <td>0</td>\n",
       "      <td>1</td>\n",
       "      <td>0</td>\n",
       "    </tr>\n",
       "    <tr>\n",
       "      <th>4</th>\n",
       "      <td>43</td>\n",
       "      <td>1</td>\n",
       "      <td>850</td>\n",
       "      <td>1</td>\n",
       "      <td>125510.820</td>\n",
       "      <td>1</td>\n",
       "      <td>79084.100</td>\n",
       "      <td>2</td>\n",
       "      <td>0</td>\n",
       "      <td>0</td>\n",
       "      <td>1</td>\n",
       "      <td>1</td>\n",
       "      <td>0</td>\n",
       "    </tr>\n",
       "  </tbody>\n",
       "</table>\n",
       "</div>"
      ],
      "text/plain": [
       "   Age  NumOfProducts  CreditScore  IsActiveMember    Balance  HasCrCard  \\\n",
       "0   42              1          619               1      0.000          1   \n",
       "1   41              1          608               1  83807.860          0   \n",
       "2   42              3          502               0 159660.800          1   \n",
       "3   39              2          699               0      0.000          0   \n",
       "4   43              1          850               1 125510.820          1   \n",
       "\n",
       "   EstimatedSalary  Tenure  Geography_France  Geography_Germany  \\\n",
       "0       101348.880       2                 1                  0   \n",
       "1       112542.580       1                 0                  0   \n",
       "2       113931.570       8                 1                  0   \n",
       "3        93826.630       1                 1                  0   \n",
       "4        79084.100       2                 0                  0   \n",
       "\n",
       "   Geography_Spain  Gender_Female  Gender_Male  \n",
       "0                0              1            0  \n",
       "1                1              1            0  \n",
       "2                0              1            0  \n",
       "3                0              1            0  \n",
       "4                1              1            0  "
      ]
     },
     "execution_count": 44,
     "metadata": {},
     "output_type": "execute_result"
    }
   ],
   "source": [
    "#One Hot encoding our string variables\n",
    "X_new = pd.get_dummies(X_new, columns =[\"Geography\", \"Gender\"], drop_first = False)\n",
    "X_new.head()"
   ]
  },
  {
   "cell_type": "code",
   "execution_count": 45,
   "id": "707b0f7a",
   "metadata": {
    "ExecuteTime": {
     "end_time": "2022-08-02T15:22:28.809968Z",
     "start_time": "2022-08-02T15:22:28.697985Z"
    }
   },
   "outputs": [],
   "source": [
    "# Preparing our variables for scaling\n",
    "cat_var = X_new[[\"Geography_Germany\", \"Geography_France\",\"Geography_Spain\", \"Gender_Male\",\"Gender_Female\" ,\"HasCrCard\",\"IsActiveMember\"]]\n",
    "X_new= X_new.drop(labels=[\"Geography_Germany\", \"Geography_France\",\"Geography_Spain\", \"Gender_Male\",\"Gender_Female\" ,\"HasCrCard\",\"IsActiveMember\"],axis=1)"
   ]
  },
  {
   "cell_type": "code",
   "execution_count": 46,
   "id": "d4bf2672",
   "metadata": {
    "ExecuteTime": {
     "end_time": "2022-08-02T15:22:28.922316Z",
     "start_time": "2022-08-02T15:22:28.809968Z"
    }
   },
   "outputs": [],
   "source": [
    "cols = X_new.columns\n",
    "index = X_new.index"
   ]
  },
  {
   "cell_type": "markdown",
   "id": "22188ac3",
   "metadata": {
    "ExecuteTime": {
     "end_time": "2022-07-29T21:40:14.107873Z",
     "start_time": "2022-07-29T21:40:13.984921Z"
    }
   },
   "source": [
    "#### Scaling The numerical columns"
   ]
  },
  {
   "cell_type": "code",
   "execution_count": 47,
   "id": "17c1f59b",
   "metadata": {
    "ExecuteTime": {
     "end_time": "2022-08-02T15:22:29.082251Z",
     "start_time": "2022-08-02T15:22:28.922316Z"
    }
   },
   "outputs": [
    {
     "data": {
      "text/html": [
       "<div>\n",
       "<style scoped>\n",
       "    .dataframe tbody tr th:only-of-type {\n",
       "        vertical-align: middle;\n",
       "    }\n",
       "\n",
       "    .dataframe tbody tr th {\n",
       "        vertical-align: top;\n",
       "    }\n",
       "\n",
       "    .dataframe thead th {\n",
       "        text-align: right;\n",
       "    }\n",
       "</style>\n",
       "<table border=\"1\" class=\"dataframe\">\n",
       "  <thead>\n",
       "    <tr style=\"text-align: right;\">\n",
       "      <th></th>\n",
       "      <th>Age</th>\n",
       "      <th>NumOfProducts</th>\n",
       "      <th>CreditScore</th>\n",
       "      <th>Balance</th>\n",
       "      <th>EstimatedSalary</th>\n",
       "      <th>Tenure</th>\n",
       "      <th>Geography_Germany</th>\n",
       "      <th>Geography_France</th>\n",
       "      <th>Geography_Spain</th>\n",
       "      <th>Gender_Male</th>\n",
       "      <th>Gender_Female</th>\n",
       "      <th>HasCrCard</th>\n",
       "      <th>IsActiveMember</th>\n",
       "    </tr>\n",
       "  </thead>\n",
       "  <tbody>\n",
       "    <tr>\n",
       "      <th>0</th>\n",
       "      <td>0.417</td>\n",
       "      <td>0.000</td>\n",
       "      <td>-0.246</td>\n",
       "      <td>-0.761</td>\n",
       "      <td>0.012</td>\n",
       "      <td>-0.750</td>\n",
       "      <td>0</td>\n",
       "      <td>1</td>\n",
       "      <td>0</td>\n",
       "      <td>0</td>\n",
       "      <td>1</td>\n",
       "      <td>1</td>\n",
       "      <td>1</td>\n",
       "    </tr>\n",
       "    <tr>\n",
       "      <th>1</th>\n",
       "      <td>0.333</td>\n",
       "      <td>0.000</td>\n",
       "      <td>-0.328</td>\n",
       "      <td>-0.105</td>\n",
       "      <td>0.126</td>\n",
       "      <td>-1.000</td>\n",
       "      <td>0</td>\n",
       "      <td>0</td>\n",
       "      <td>1</td>\n",
       "      <td>0</td>\n",
       "      <td>1</td>\n",
       "      <td>0</td>\n",
       "      <td>1</td>\n",
       "    </tr>\n",
       "    <tr>\n",
       "      <th>2</th>\n",
       "      <td>0.417</td>\n",
       "      <td>2.000</td>\n",
       "      <td>-1.119</td>\n",
       "      <td>0.489</td>\n",
       "      <td>0.140</td>\n",
       "      <td>0.750</td>\n",
       "      <td>0</td>\n",
       "      <td>1</td>\n",
       "      <td>0</td>\n",
       "      <td>0</td>\n",
       "      <td>1</td>\n",
       "      <td>1</td>\n",
       "      <td>0</td>\n",
       "    </tr>\n",
       "    <tr>\n",
       "      <th>3</th>\n",
       "      <td>0.167</td>\n",
       "      <td>1.000</td>\n",
       "      <td>0.351</td>\n",
       "      <td>-0.761</td>\n",
       "      <td>-0.065</td>\n",
       "      <td>-1.000</td>\n",
       "      <td>0</td>\n",
       "      <td>1</td>\n",
       "      <td>0</td>\n",
       "      <td>0</td>\n",
       "      <td>1</td>\n",
       "      <td>0</td>\n",
       "      <td>0</td>\n",
       "    </tr>\n",
       "    <tr>\n",
       "      <th>4</th>\n",
       "      <td>0.500</td>\n",
       "      <td>0.000</td>\n",
       "      <td>1.478</td>\n",
       "      <td>0.222</td>\n",
       "      <td>-0.215</td>\n",
       "      <td>-0.750</td>\n",
       "      <td>0</td>\n",
       "      <td>0</td>\n",
       "      <td>1</td>\n",
       "      <td>0</td>\n",
       "      <td>1</td>\n",
       "      <td>1</td>\n",
       "      <td>1</td>\n",
       "    </tr>\n",
       "  </tbody>\n",
       "</table>\n",
       "</div>"
      ],
      "text/plain": [
       "    Age  NumOfProducts  CreditScore  Balance  EstimatedSalary  Tenure  \\\n",
       "0 0.417          0.000       -0.246   -0.761            0.012  -0.750   \n",
       "1 0.333          0.000       -0.328   -0.105            0.126  -1.000   \n",
       "2 0.417          2.000       -1.119    0.489            0.140   0.750   \n",
       "3 0.167          1.000        0.351   -0.761           -0.065  -1.000   \n",
       "4 0.500          0.000        1.478    0.222           -0.215  -0.750   \n",
       "\n",
       "   Geography_Germany  Geography_France  Geography_Spain  Gender_Male  \\\n",
       "0                  0                 1                0            0   \n",
       "1                  0                 0                1            0   \n",
       "2                  0                 1                0            0   \n",
       "3                  0                 1                0            0   \n",
       "4                  0                 0                1            0   \n",
       "\n",
       "   Gender_Female  HasCrCard  IsActiveMember  \n",
       "0              1          1               1  \n",
       "1              1          0               1  \n",
       "2              1          1               0  \n",
       "3              1          0               0  \n",
       "4              1          1               1  "
      ]
     },
     "execution_count": 47,
     "metadata": {},
     "output_type": "execute_result"
    }
   ],
   "source": [
    "from sklearn.preprocessing import RobustScaler\n",
    "transformer = RobustScaler().fit(X_new)\n",
    "X_new = transformer.transform(X_new)\n",
    "X_new = pd.DataFrame(X_new, columns = cols, index = index)\n",
    "X_new = pd.concat([X_new,cat_var], axis = 1)\n",
    "X_new.head()"
   ]
  },
  {
   "cell_type": "code",
   "execution_count": 48,
   "id": "d53a785f",
   "metadata": {
    "ExecuteTime": {
     "end_time": "2022-08-02T15:22:29.178233Z",
     "start_time": "2022-08-02T15:22:29.082251Z"
    }
   },
   "outputs": [
    {
     "name": "stdout",
     "output_type": "stream",
     "text": [
      "(10000, 13) (10000,)\n"
     ]
    }
   ],
   "source": [
    "print(X_new.shape, y_first.shape)"
   ]
  },
  {
   "cell_type": "code",
   "execution_count": 49,
   "id": "e06da044",
   "metadata": {
    "ExecuteTime": {
     "end_time": "2022-08-02T15:22:29.338245Z",
     "start_time": "2022-08-02T15:22:29.178233Z"
    }
   },
   "outputs": [],
   "source": [
    "# Spliting into training and testing data\n",
    "X, X_test, y, y_test = train_test_split(X_new, y_first,\n",
    "                                                     test_size=0.1,\n",
    "                                                     random_state = 0)"
   ]
  },
  {
   "cell_type": "code",
   "execution_count": 50,
   "id": "4907e06b",
   "metadata": {
    "ExecuteTime": {
     "end_time": "2022-08-02T15:22:29.442233Z",
     "start_time": "2022-08-02T15:22:29.338245Z"
    }
   },
   "outputs": [],
   "source": [
    "# Spliting into training and validation From our X_train and Y_train\n",
    "X_train, X_valid, y_train, y_valid = train_test_split(X, y,\n",
    "                                                     test_size=0.2,\n",
    "                                                     random_state = 0)"
   ]
  },
  {
   "cell_type": "code",
   "execution_count": 51,
   "id": "c304d3a5",
   "metadata": {
    "ExecuteTime": {
     "end_time": "2022-08-02T15:22:29.562223Z",
     "start_time": "2022-08-02T15:22:29.442233Z"
    }
   },
   "outputs": [
    {
     "data": {
      "text/html": [
       "<div>\n",
       "<style scoped>\n",
       "    .dataframe tbody tr th:only-of-type {\n",
       "        vertical-align: middle;\n",
       "    }\n",
       "\n",
       "    .dataframe tbody tr th {\n",
       "        vertical-align: top;\n",
       "    }\n",
       "\n",
       "    .dataframe thead th {\n",
       "        text-align: right;\n",
       "    }\n",
       "</style>\n",
       "<table border=\"1\" class=\"dataframe\">\n",
       "  <thead>\n",
       "    <tr style=\"text-align: right;\">\n",
       "      <th></th>\n",
       "      <th>Age</th>\n",
       "      <th>NumOfProducts</th>\n",
       "      <th>CreditScore</th>\n",
       "      <th>Balance</th>\n",
       "      <th>EstimatedSalary</th>\n",
       "      <th>Tenure</th>\n",
       "      <th>Geography_Germany</th>\n",
       "      <th>Geography_France</th>\n",
       "      <th>Geography_Spain</th>\n",
       "      <th>Gender_Male</th>\n",
       "      <th>Gender_Female</th>\n",
       "      <th>HasCrCard</th>\n",
       "      <th>IsActiveMember</th>\n",
       "    </tr>\n",
       "  </thead>\n",
       "  <tbody>\n",
       "    <tr>\n",
       "      <th>3390</th>\n",
       "      <td>-0.417</td>\n",
       "      <td>0.000</td>\n",
       "      <td>0.164</td>\n",
       "      <td>-0.090</td>\n",
       "      <td>-0.048</td>\n",
       "      <td>0.500</td>\n",
       "      <td>0</td>\n",
       "      <td>1</td>\n",
       "      <td>0</td>\n",
       "      <td>0</td>\n",
       "      <td>1</td>\n",
       "      <td>1</td>\n",
       "      <td>1</td>\n",
       "    </tr>\n",
       "    <tr>\n",
       "      <th>2491</th>\n",
       "      <td>-0.917</td>\n",
       "      <td>1.000</td>\n",
       "      <td>-0.299</td>\n",
       "      <td>-0.761</td>\n",
       "      <td>0.809</td>\n",
       "      <td>-0.250</td>\n",
       "      <td>0</td>\n",
       "      <td>0</td>\n",
       "      <td>1</td>\n",
       "      <td>0</td>\n",
       "      <td>1</td>\n",
       "      <td>1</td>\n",
       "      <td>1</td>\n",
       "    </tr>\n",
       "    <tr>\n",
       "      <th>7843</th>\n",
       "      <td>-0.083</td>\n",
       "      <td>0.000</td>\n",
       "      <td>-0.493</td>\n",
       "      <td>0.051</td>\n",
       "      <td>0.954</td>\n",
       "      <td>0.000</td>\n",
       "      <td>1</td>\n",
       "      <td>0</td>\n",
       "      <td>0</td>\n",
       "      <td>0</td>\n",
       "      <td>1</td>\n",
       "      <td>1</td>\n",
       "      <td>0</td>\n",
       "    </tr>\n",
       "    <tr>\n",
       "      <th>6715</th>\n",
       "      <td>2.500</td>\n",
       "      <td>0.000</td>\n",
       "      <td>1.164</td>\n",
       "      <td>0.214</td>\n",
       "      <td>0.708</td>\n",
       "      <td>1.250</td>\n",
       "      <td>0</td>\n",
       "      <td>0</td>\n",
       "      <td>1</td>\n",
       "      <td>0</td>\n",
       "      <td>1</td>\n",
       "      <td>0</td>\n",
       "      <td>1</td>\n",
       "    </tr>\n",
       "    <tr>\n",
       "      <th>8504</th>\n",
       "      <td>0.417</td>\n",
       "      <td>0.000</td>\n",
       "      <td>-0.209</td>\n",
       "      <td>0.376</td>\n",
       "      <td>-0.285</td>\n",
       "      <td>-0.500</td>\n",
       "      <td>0</td>\n",
       "      <td>1</td>\n",
       "      <td>0</td>\n",
       "      <td>1</td>\n",
       "      <td>0</td>\n",
       "      <td>1</td>\n",
       "      <td>0</td>\n",
       "    </tr>\n",
       "  </tbody>\n",
       "</table>\n",
       "</div>"
      ],
      "text/plain": [
       "        Age  NumOfProducts  CreditScore  Balance  EstimatedSalary  Tenure  \\\n",
       "3390 -0.417          0.000        0.164   -0.090           -0.048   0.500   \n",
       "2491 -0.917          1.000       -0.299   -0.761            0.809  -0.250   \n",
       "7843 -0.083          0.000       -0.493    0.051            0.954   0.000   \n",
       "6715  2.500          0.000        1.164    0.214            0.708   1.250   \n",
       "8504  0.417          0.000       -0.209    0.376           -0.285  -0.500   \n",
       "\n",
       "      Geography_Germany  Geography_France  Geography_Spain  Gender_Male  \\\n",
       "3390                  0                 1                0            0   \n",
       "2491                  0                 0                1            0   \n",
       "7843                  1                 0                0            0   \n",
       "6715                  0                 0                1            0   \n",
       "8504                  0                 1                0            1   \n",
       "\n",
       "      Gender_Female  HasCrCard  IsActiveMember  \n",
       "3390              1          1               1  \n",
       "2491              1          1               1  \n",
       "7843              1          1               0  \n",
       "6715              1          0               1  \n",
       "8504              0          1               0  "
      ]
     },
     "execution_count": 51,
     "metadata": {},
     "output_type": "execute_result"
    }
   ],
   "source": [
    "X_train.head()"
   ]
  },
  {
   "cell_type": "code",
   "execution_count": null,
   "id": "4b2c95ad",
   "metadata": {},
   "outputs": [],
   "source": []
  },
  {
   "cell_type": "markdown",
   "id": "c017991c",
   "metadata": {},
   "source": [
    "## Modelling\n",
    "\n",
    "For our first model, we'll be making use of the DecisionTreeClassifier as a baseline model.\n",
    "This will be used to tune hyperparameters that would be used in the next algorithm which is the RandomForest Algorithm"
   ]
  },
  {
   "cell_type": "code",
   "execution_count": 52,
   "id": "a88f4ea1",
   "metadata": {
    "ExecuteTime": {
     "end_time": "2022-08-02T15:22:30.850007Z",
     "start_time": "2022-08-02T15:22:29.562223Z"
    }
   },
   "outputs": [],
   "source": [
    "# Import Libraries for our model\n",
    "from sklearn.tree import DecisionTreeClassifier \n",
    "from sklearn.ensemble import RandomForestClassifier"
   ]
  },
  {
   "cell_type": "code",
   "execution_count": 53,
   "id": "1ce57b2a",
   "metadata": {
    "ExecuteTime": {
     "end_time": "2022-08-02T15:22:31.185991Z",
     "start_time": "2022-08-02T15:22:30.858006Z"
    }
   },
   "outputs": [
    {
     "data": {
      "text/html": [
       "<style>#sk-container-id-1 {color: black;background-color: white;}#sk-container-id-1 pre{padding: 0;}#sk-container-id-1 div.sk-toggleable {background-color: white;}#sk-container-id-1 label.sk-toggleable__label {cursor: pointer;display: block;width: 100%;margin-bottom: 0;padding: 0.3em;box-sizing: border-box;text-align: center;}#sk-container-id-1 label.sk-toggleable__label-arrow:before {content: \"▸\";float: left;margin-right: 0.25em;color: #696969;}#sk-container-id-1 label.sk-toggleable__label-arrow:hover:before {color: black;}#sk-container-id-1 div.sk-estimator:hover label.sk-toggleable__label-arrow:before {color: black;}#sk-container-id-1 div.sk-toggleable__content {max-height: 0;max-width: 0;overflow: hidden;text-align: left;background-color: #f0f8ff;}#sk-container-id-1 div.sk-toggleable__content pre {margin: 0.2em;color: black;border-radius: 0.25em;background-color: #f0f8ff;}#sk-container-id-1 input.sk-toggleable__control:checked~div.sk-toggleable__content {max-height: 200px;max-width: 100%;overflow: auto;}#sk-container-id-1 input.sk-toggleable__control:checked~label.sk-toggleable__label-arrow:before {content: \"▾\";}#sk-container-id-1 div.sk-estimator input.sk-toggleable__control:checked~label.sk-toggleable__label {background-color: #d4ebff;}#sk-container-id-1 div.sk-label input.sk-toggleable__control:checked~label.sk-toggleable__label {background-color: #d4ebff;}#sk-container-id-1 input.sk-hidden--visually {border: 0;clip: rect(1px 1px 1px 1px);clip: rect(1px, 1px, 1px, 1px);height: 1px;margin: -1px;overflow: hidden;padding: 0;position: absolute;width: 1px;}#sk-container-id-1 div.sk-estimator {font-family: monospace;background-color: #f0f8ff;border: 1px dotted black;border-radius: 0.25em;box-sizing: border-box;margin-bottom: 0.5em;}#sk-container-id-1 div.sk-estimator:hover {background-color: #d4ebff;}#sk-container-id-1 div.sk-parallel-item::after {content: \"\";width: 100%;border-bottom: 1px solid gray;flex-grow: 1;}#sk-container-id-1 div.sk-label:hover label.sk-toggleable__label {background-color: #d4ebff;}#sk-container-id-1 div.sk-serial::before {content: \"\";position: absolute;border-left: 1px solid gray;box-sizing: border-box;top: 0;bottom: 0;left: 50%;z-index: 0;}#sk-container-id-1 div.sk-serial {display: flex;flex-direction: column;align-items: center;background-color: white;padding-right: 0.2em;padding-left: 0.2em;position: relative;}#sk-container-id-1 div.sk-item {position: relative;z-index: 1;}#sk-container-id-1 div.sk-parallel {display: flex;align-items: stretch;justify-content: center;background-color: white;position: relative;}#sk-container-id-1 div.sk-item::before, #sk-container-id-1 div.sk-parallel-item::before {content: \"\";position: absolute;border-left: 1px solid gray;box-sizing: border-box;top: 0;bottom: 0;left: 50%;z-index: -1;}#sk-container-id-1 div.sk-parallel-item {display: flex;flex-direction: column;z-index: 1;position: relative;background-color: white;}#sk-container-id-1 div.sk-parallel-item:first-child::after {align-self: flex-end;width: 50%;}#sk-container-id-1 div.sk-parallel-item:last-child::after {align-self: flex-start;width: 50%;}#sk-container-id-1 div.sk-parallel-item:only-child::after {width: 0;}#sk-container-id-1 div.sk-dashed-wrapped {border: 1px dashed gray;margin: 0 0.4em 0.5em 0.4em;box-sizing: border-box;padding-bottom: 0.4em;background-color: white;}#sk-container-id-1 div.sk-label label {font-family: monospace;font-weight: bold;display: inline-block;line-height: 1.2em;}#sk-container-id-1 div.sk-label-container {text-align: center;}#sk-container-id-1 div.sk-container {/* jupyter's `normalize.less` sets `[hidden] { display: none; }` but bootstrap.min.css set `[hidden] { display: none !important; }` so we also need the `!important` here to be able to override the default hidden behavior on the sphinx rendered scikit-learn.org. See: https://github.com/scikit-learn/scikit-learn/issues/21755 */display: inline-block !important;position: relative;}#sk-container-id-1 div.sk-text-repr-fallback {display: none;}</style><div id=\"sk-container-id-1\" class=\"sk-top-container\"><div class=\"sk-text-repr-fallback\"><pre>DecisionTreeClassifier(random_state=0)</pre><b>In a Jupyter environment, please rerun this cell to show the HTML representation or trust the notebook. <br />On GitHub, the HTML representation is unable to render, please try loading this page with nbviewer.org.</b></div><div class=\"sk-container\" hidden><div class=\"sk-item\"><div class=\"sk-estimator sk-toggleable\"><input class=\"sk-toggleable__control sk-hidden--visually\" id=\"sk-estimator-id-1\" type=\"checkbox\" checked><label for=\"sk-estimator-id-1\" class=\"sk-toggleable__label sk-toggleable__label-arrow\">DecisionTreeClassifier</label><div class=\"sk-toggleable__content\"><pre>DecisionTreeClassifier(random_state=0)</pre></div></div></div></div></div>"
      ],
      "text/plain": [
       "DecisionTreeClassifier(random_state=0)"
      ]
     },
     "execution_count": 53,
     "metadata": {},
     "output_type": "execute_result"
    }
   ],
   "source": [
    "# Instantiating the model\n",
    "dt_model_1 = DecisionTreeClassifier(random_state=0)\n",
    "dt_model_1.fit(X_train, y_train)"
   ]
  },
  {
   "cell_type": "markdown",
   "id": "39618936",
   "metadata": {},
   "source": [
    "We'll be using **accuracy** to measure our model's performance under Cross Validation"
   ]
  },
  {
   "cell_type": "markdown",
   "id": "8a6f0aa7",
   "metadata": {},
   "source": [
    "### Cross Validation\n",
    "This will help us keep track of our optimization processes"
   ]
  },
  {
   "cell_type": "code",
   "execution_count": 54,
   "id": "3994a786",
   "metadata": {
    "ExecuteTime": {
     "end_time": "2022-08-02T15:22:31.505946Z",
     "start_time": "2022-08-02T15:22:31.185991Z"
    }
   },
   "outputs": [
    {
     "name": "stdout",
     "output_type": "stream",
     "text": [
      "Decision Tree Classifier Baseline Score: 79.0%\n"
     ]
    }
   ],
   "source": [
    "# Import library\n",
    "from sklearn.model_selection import cross_val_score\n",
    "scores = cross_val_score(dt_model_1, X, y, scoring='accuracy')\n",
    "average_score = scores.mean().round(3)\n",
    "\n",
    "print(f'Decision Tree Classifier Baseline Score: {average_score.round(2)*100}%')"
   ]
  },
  {
   "cell_type": "markdown",
   "id": "5454ed09",
   "metadata": {},
   "source": [
    "We instantiated a DecisionTree model without editing it's parameters, this allowed the tree to grow till max depth which lead to overfitting. One of the ways to prevent overfitting is through **Prunning**. \n",
    "\n",
    "we'll be using a using a cost-complexity parameter (ccp_alpha) from the scikit DecisionTreeClasifier\n"
   ]
  },
  {
   "cell_type": "markdown",
   "id": "eaa17d57",
   "metadata": {},
   "source": [
    "#### Pruning\n",
    "Essentially, prunning recursively finds the node with the 'weakest link'. The weakest link is characterized by an effective alpha, where the nodes with the smallest effective alpha are pruned first."
   ]
  },
  {
   "cell_type": "code",
   "execution_count": 55,
   "id": "a691ea34",
   "metadata": {
    "ExecuteTime": {
     "end_time": "2022-08-02T15:22:31.945911Z",
     "start_time": "2022-08-02T15:22:31.505946Z"
    }
   },
   "outputs": [
    {
     "data": {
      "text/plain": [
       "Text(0.5, 1.0, 'Total Impurity vs Effective alpha for training set')"
      ]
     },
     "execution_count": 55,
     "metadata": {},
     "output_type": "execute_result"
    },
    {
     "data": {
      "image/png": "[encoded data removed]",
      "text/plain": [
       "<Figure size 648x432 with 1 Axes>"
      ]
     },
     "metadata": {},
     "output_type": "display_data"
    }
   ],
   "source": [
    "# Prunning the Decision Tree\n",
    "path = dt_model_1.cost_complexity_pruning_path(X_train, y_train)\n",
    "\n",
    "# ccp_alphas and Impurities\n",
    "ccp_alphas, impurities = path.ccp_alphas, path.impurities\n",
    "\n",
    "# Visualizing paths\n",
    "fig, ax = plt.subplots(figsize=(9,6))\n",
    "ax.plot(ccp_alphas[:-1], impurities[:-1], drawstyle = 'steps-post')\n",
    "ax.set_xlabel(\"effective alpha\")\n",
    "ax.set_ylabel(\"Total impurity of leaves\")\n",
    "ax.set_title(\"Total Impurity vs Effective alpha for training set\")"
   ]
  },
  {
   "cell_type": "markdown",
   "id": "a3364772",
   "metadata": {
    "ExecuteTime": {
     "end_time": "2022-07-27T15:00:21.278612Z",
     "start_time": "2022-07-27T15:00:21.267619Z"
    }
   },
   "source": [
    "This graph illustrate the variation of impurity with change in effective_alpha.\n",
    "- At an effective_alpha of zero, total impurity is zero\n",
    "- As effective_starts to increase the impurity increases also which prevents the tree from attaining complete purity.\n",
    "- We'll be looking for an effective alpha value that would give us the maximum accuracy in our Decision Tree."
   ]
  },
  {
   "cell_type": "markdown",
   "id": "4d0542ae",
   "metadata": {},
   "source": [
    "Next, we train a decision tree using the effective alphas. The last value in ccp_alphas is the alpha value that prunes the whole tree, leaving the tree, clfs[-1], with one node."
   ]
  },
  {
   "cell_type": "code",
   "execution_count": 56,
   "id": "a57a79dd",
   "metadata": {
    "ExecuteTime": {
     "end_time": "2022-08-02T15:22:50.978878Z",
     "start_time": "2022-08-02T15:22:31.945911Z"
    }
   },
   "outputs": [
    {
     "name": "stdout",
     "output_type": "stream",
     "text": [
      "Number of nodes in the last tree is: 1 with ccp_alpha: 0.03687152989538989\n"
     ]
    }
   ],
   "source": [
    "clfs = [] # Number of node\n",
    "\n",
    "for ccp_alpha in ccp_alphas:\n",
    "    clf = DecisionTreeClassifier(random_state=0, ccp_alpha = ccp_alpha)\n",
    "    clf.fit(X_train, y_train)\n",
    "    clfs.append(clf)\n",
    "    \n",
    "print(\"Number of nodes in the last tree is: {} with ccp_alpha: {}\".format(clfs[-1].tree_.node_count, ccp_alphas[-1]))"
   ]
  },
  {
   "cell_type": "markdown",
   "id": "b2f6f02a",
   "metadata": {},
   "source": [
    "#### Visualizing Training and Validation acuracy when alpha is increased"
   ]
  },
  {
   "cell_type": "code",
   "execution_count": 57,
   "id": "285599d1",
   "metadata": {
    "ExecuteTime": {
     "end_time": "2022-08-02T15:22:55.892425Z",
     "start_time": "2022-08-02T15:22:50.978878Z"
    }
   },
   "outputs": [
    {
     "data": {
      "text/plain": [
       "Text(0.5, 1.0, 'accuracy vs ccp_alpha')"
      ]
     },
     "execution_count": 57,
     "metadata": {},
     "output_type": "execute_result"
    },
    {
     "data": {
      "image/png": "[encoded data removed]",
      "text/plain": [
       "<Figure size 720x480 with 1 Axes>"
      ]
     },
     "metadata": {},
     "output_type": "display_data"
    }
   ],
   "source": [
    "# Accuracy vs alpha\n",
    "train_scores = [clf.score(X_train, y_train) for clf in clfs]\n",
    "validation_scores = [clf.score(X_valid, y_valid) for clf in clfs]\n",
    "\n",
    "\n",
    "# Plotting accuracy scores vs ccp_alpha\n",
    "plt.figure(dpi=120)\n",
    "\n",
    "sns.lineplot(x = ccp_alphas, y = validation_scores, \n",
    "             drawstyle = 'steps-post', label = 'validation_scores')\n",
    "sns.lineplot(x = ccp_alphas, y = train_scores, \n",
    "             drawstyle = 'steps-post', label = 'train_scores')\n",
    "\n",
    "plt.xlabel('ccp_alpha')\n",
    "plt.ylabel('accuracy')\n",
    "plt.title('accuracy vs ccp_alpha')"
   ]
  },
  {
   "cell_type": "markdown",
   "id": "28ee5d1d",
   "metadata": {},
   "source": [
    "From the graph above, at ccp_alpha zero 0 the training accuracy is 100% which is as a result of overfitting, while the validation accuracy is below 80%.\n",
    "- As alpha increases more of the tree is pruned which creates a decision tree that generalizes better\n",
    "- The best ccp_alpha from the graph should be between 0.000 to 0.005 were both lines of train_scores and validation scores first intersect with an accuracy score approximately 86% which is higher than the baseline score of 79.0%\n",
    "- From the first intersection the accuracy scores for both training and validation scores starts to drop\n",
    "- we'll be using the ccp_alpha at the maximum accuracy scores(where training and validation scores intersect) for our best ccp_alpha parameter. "
   ]
  },
  {
   "cell_type": "markdown",
   "id": "e761ec55",
   "metadata": {},
   "source": [
    "##### The best Effective_alpha\n",
    "\n",
    "The code below provides the cost computation pruning value(effective_alpha) that would produce the highest accuracy in the validation data."
   ]
  },
  {
   "cell_type": "code",
   "execution_count": 58,
   "id": "7c559fa7",
   "metadata": {
    "ExecuteTime": {
     "end_time": "2022-08-02T15:22:55.924429Z",
     "start_time": "2022-08-02T15:22:55.892425Z"
    }
   },
   "outputs": [
    {
     "data": {
      "text/html": [
       "<div>\n",
       "<style scoped>\n",
       "    .dataframe tbody tr th:only-of-type {\n",
       "        vertical-align: middle;\n",
       "    }\n",
       "\n",
       "    .dataframe tbody tr th {\n",
       "        vertical-align: top;\n",
       "    }\n",
       "\n",
       "    .dataframe thead th {\n",
       "        text-align: right;\n",
       "    }\n",
       "</style>\n",
       "<table border=\"1\" class=\"dataframe\">\n",
       "  <thead>\n",
       "    <tr style=\"text-align: right;\">\n",
       "      <th></th>\n",
       "      <th>ccp</th>\n",
       "      <th>train_scores</th>\n",
       "      <th>validation_scores</th>\n",
       "    </tr>\n",
       "  </thead>\n",
       "  <tbody>\n",
       "    <tr>\n",
       "      <th>388</th>\n",
       "      <td>0.000</td>\n",
       "      <td>0.874</td>\n",
       "      <td>0.863</td>\n",
       "    </tr>\n",
       "    <tr>\n",
       "      <th>390</th>\n",
       "      <td>0.001</td>\n",
       "      <td>0.874</td>\n",
       "      <td>0.863</td>\n",
       "    </tr>\n",
       "  </tbody>\n",
       "</table>\n",
       "</div>"
      ],
      "text/plain": [
       "      ccp  train_scores  validation_scores\n",
       "388 0.000         0.874              0.863\n",
       "390 0.001         0.874              0.863"
      ]
     },
     "execution_count": 58,
     "metadata": {},
     "output_type": "execute_result"
    }
   ],
   "source": [
    "i = np.arange(len(ccp_alphas)) # Looking through the lenght of the ccp_alpha values\n",
    "ccp = pd.DataFrame({'ccp': pd.Series(ccp_alphas, index = i), 'train_scores': pd.Series(train_scores, index=i),\n",
    "    'validation_scores': pd.Series(validation_scores, index=i)})\n",
    "\n",
    "ccp.tail()\n",
    "ccp[ccp['validation_scores']==ccp['validation_scores'].max()]"
   ]
  },
  {
   "cell_type": "markdown",
   "id": "79b6a228",
   "metadata": {},
   "source": [
    "#### Pruned Decision Tree Model\n",
    "\n",
    "We'll be applying the ccp_alpha value of 0.001 to our DecisionTree model to optimize it."
   ]
  },
  {
   "cell_type": "code",
   "execution_count": 59,
   "id": "c8db133a",
   "metadata": {
    "ExecuteTime": {
     "end_time": "2022-08-02T15:22:56.316391Z",
     "start_time": "2022-08-02T15:22:55.924429Z"
    }
   },
   "outputs": [
    {
     "name": "stdout",
     "output_type": "stream",
     "text": [
      "Average score of optimized DecisionTreeClassifier : 85.6%\n"
     ]
    }
   ],
   "source": [
    "dt_model_2 = DecisionTreeClassifier(random_state = 0, ccp_alpha = 0.001)\n",
    "\n",
    "\n",
    "# Cross validation\n",
    "optimized_cv = cross_val_score(dt_model_2, X, y, cv=5, scoring='accuracy')\n",
    "print(f'Average score of optimized DecisionTreeClassifier : {optimized_cv.mean().round(3)*100}%')"
   ]
  },
  {
   "cell_type": "markdown",
   "id": "a961b00b",
   "metadata": {},
   "source": [
    "### Random Forest Model Classifier\n",
    "\n",
    "We'll be working with the ccp_alpha generated from the DecisionTreeClassifier\n",
    "- We'll also be working on another hyperparameter n_estimators for our RandomForestClassifier"
   ]
  },
  {
   "cell_type": "code",
   "execution_count": 60,
   "id": "c6cdfa42",
   "metadata": {
    "ExecuteTime": {
     "end_time": "2022-08-02T15:23:02.506282Z",
     "start_time": "2022-08-02T15:22:56.316391Z"
    }
   },
   "outputs": [
    {
     "name": "stdout",
     "output_type": "stream",
     "text": [
      "RandomForestClassifier baseline score: 85.8%\n"
     ]
    }
   ],
   "source": [
    "# Import Library\n",
    "from sklearn.ensemble import RandomForestClassifier\n",
    "\n",
    "# Instantiating the model and inputing the baseline parameters random_state and ccp_alpha\n",
    "random_fr = RandomForestClassifier(random_state=0, ccp_alpha= 0.001)\n",
    "\n",
    "# Looking at the cross_validation_score of our Baseline RandomForestClassifier algorithm\n",
    "random_fr_cv = cross_val_score(random_fr, X, y, cv=5, scoring='accuracy')\n",
    "\n",
    "print(f'RandomForestClassifier baseline score: {random_fr_cv.mean().round(3)*100}%')"
   ]
  },
  {
   "cell_type": "markdown",
   "id": "d701484d",
   "metadata": {},
   "source": [
    "#### Optimizing the random forest model"
   ]
  },
  {
   "cell_type": "code",
   "execution_count": 61,
   "id": "ff8d1695",
   "metadata": {
    "ExecuteTime": {
     "end_time": "2022-08-02T15:43:59.901102Z",
     "start_time": "2022-08-02T15:23:02.506282Z"
    }
   },
   "outputs": [
    {
     "data": {
      "text/plain": [
       "Text(0.5, 1.0, 'accuracy vs number of estimators')"
      ]
     },
     "execution_count": 61,
     "metadata": {},
     "output_type": "execute_result"
    },
    {
     "data": {
      "image/png": "[encoded data removed]",
      "text/plain": [
       "<Figure size 432x288 with 1 Axes>"
      ]
     },
     "metadata": {},
     "output_type": "display_data"
    }
   ],
   "source": [
    "# We'll be optimizing the random_forest model by determining the best n_estimator\n",
    "scores = []\n",
    "for n in range(10, 600, 10):\n",
    "    random_fr_test = RandomForestClassifier(random_state=0, ccp_alpha= 0.001, n_estimators=n)\n",
    "    random_fr_test.fit(X_train, y_train)\n",
    "    cv_test = cross_val_score(random_fr_test, X, y, cv=5, scoring='accuracy')\n",
    "    scores.append(cv_test.mean())\n",
    "    randomf_accuracy_score = scores\n",
    "# Plot of the relationship between n_estimators and accuracy\n",
    "plt.plot(range(10,600,10), scores)\n",
    "plt.xlabel('n_estimator values')\n",
    "plt.ylabel('Accuracy')\n",
    "plt.title('accuracy vs number of estimators')"
   ]
  },
  {
   "cell_type": "code",
   "execution_count": 62,
   "id": "77b319a9",
   "metadata": {
    "ExecuteTime": {
     "end_time": "2022-08-02T15:43:59.917090Z",
     "start_time": "2022-08-02T15:43:59.904075Z"
    }
   },
   "outputs": [
    {
     "name": "stdout",
     "output_type": "stream",
     "text": [
      "The optimised RandomForestClassifier has an accuracy score of 85.7%\n"
     ]
    }
   ],
   "source": [
    "print(f'The optimised RandomForestClassifier has an accuracy score of {round(randomf_accuracy_score[47],3)*100}%')"
   ]
  },
  {
   "cell_type": "markdown",
   "id": "ec4a32e3",
   "metadata": {},
   "source": [
    "### Handling Weight Imbalance\n",
    "\n",
    "The occurence of one class '0' (Not churn) is very high compared to the other class '1' (churn).\n",
    "- The RandomForest algorithm could have assumed that the data is evenly distributed within classes which is not the case.\n",
    "- We'll be giving different weights to both the majority(Not churn) and the minority(Churn) class Manually by passing a dictionary that contains manual weights for both classes.\n",
    "- We'll be giving n as weight for minority class and 1-n as weights for the majority class.\n",
    "- We'll be using F1 score as our metric for selecting weights"
   ]
  },
  {
   "cell_type": "code",
   "execution_count": 63,
   "id": "0a94875b",
   "metadata": {
    "ExecuteTime": {
     "end_time": "2022-08-02T15:52:47.445532Z",
     "start_time": "2022-08-02T15:43:59.922066Z"
    }
   },
   "outputs": [
    {
     "data": {
      "text/plain": [
       "Text(0.5, 1.0, 'Scoring for different class weights')"
      ]
     },
     "execution_count": 63,
     "metadata": {},
     "output_type": "execute_result"
    },
    {
     "data": {
      "image/png": "[encoded data removed]",
      "text/plain": [
       "<Figure size 864x576 with 1 Axes>"
      ]
     },
     "metadata": {},
     "output_type": "display_data"
    }
   ],
   "source": [
    "from sklearn.model_selection import GridSearchCV, StratifiedKFold\n",
    "random_forest_x = RandomForestClassifier(random_state=0, ccp_alpha= 0.001, n_estimators=240)\n",
    "\n",
    "# Setting the range for class weights\n",
    "weights = np.arange(0, 0.99, 0.01)\n",
    "\n",
    "# Creating a dictionary grid for grid search\n",
    "param_grid = {'class_weight': [{0:x, 1:1-x} for x in weights]}\n",
    "\n",
    "# Fitting grid search to the train data with 5 folds\n",
    "gridsearch = GridSearchCV(estimator = random_forest_x, param_grid=param_grid, cv=StratifiedKFold(), n_jobs=-1, \n",
    "                          scoring='f1').fit(X_train, y_train)\n",
    "\n",
    "# Plotting the score for different values of weight\n",
    "sns.set_style('whitegrid')\n",
    "plt.figure(figsize=(12,8))\n",
    "weigh_data = pd.DataFrame({'score':gridsearch.cv_results_['mean_test_score'], 'weight': (1- weights)})\n",
    "sns.lineplot(weigh_data['weight'], weigh_data['score'])\n",
    "plt.xlabel('Weight for class 1')\n",
    "plt.ylabel('F1 score')\n",
    "plt.xticks([round(i/10,1) for i in range(0,11,1)])\n",
    "plt.title('Scoring for different class weights', fontsize=24)"
   ]
  },
  {
   "cell_type": "markdown",
   "id": "07955cfb",
   "metadata": {},
   "source": [
    "From the graph the highest values of the minority class is peaking at 0.74 class weight\n",
    "\n",
    "Using grid search, we got the best class weight, i.e.  0.26 for class 0 (majority class), 1: 0.74 for class 1 (minority class)."
   ]
  },
  {
   "cell_type": "markdown",
   "id": "ac08d112",
   "metadata": {},
   "source": [
    "### Fitting Final Models"
   ]
  },
  {
   "cell_type": "markdown",
   "id": "fecd3b37",
   "metadata": {},
   "source": [
    "#### Baseline Model\n",
    "\n",
    "A Baseline model is fitted without handling Class Imbalance to measure the effect of class weights on our model's viability"
   ]
  },
  {
   "cell_type": "code",
   "execution_count": 74,
   "id": "2792f02c",
   "metadata": {
    "ExecuteTime": {
     "end_time": "2022-08-02T17:12:04.699415Z",
     "start_time": "2022-08-02T17:12:00.954456Z"
    }
   },
   "outputs": [
    {
     "name": "stdout",
     "output_type": "stream",
     "text": [
      "Done!\n"
     ]
    }
   ],
   "source": [
    "# Instatiating The baseline model, named = random_fr_baseline without class weights\n",
    "random_fr_baseline = RandomForestClassifier(random_state=0, ccp_alpha=0.001, n_estimators=240)\n",
    "\n",
    "# Fitting the model\n",
    "random_fr_baseline.fit(X,y)\n",
    "\n",
    "print('Done!')"
   ]
  },
  {
   "cell_type": "markdown",
   "id": "32b4c4ce",
   "metadata": {},
   "source": [
    "#### Weighted Model\n",
    "This model will handle class imbalance using class weights.\n",
    "\n",
    "A selection of class weight {0:0.26, 1:0.74} would be used as got from the plot of f1 score vs weight"
   ]
  },
  {
   "cell_type": "code",
   "execution_count": 76,
   "id": "a12a167e",
   "metadata": {
    "ExecuteTime": {
     "end_time": "2022-08-02T17:12:42.060153Z",
     "start_time": "2022-08-02T17:12:38.183693Z"
    }
   },
   "outputs": [
    {
     "name": "stdout",
     "output_type": "stream",
     "text": [
      "Done!\n"
     ]
    }
   ],
   "source": [
    "# Instatiating The weighted model, named = random_fr_weighted without class weights\n",
    "random_fr_weighted = RandomForestClassifier(random_state=0, ccp_alpha=0.001, n_estimators=240, class_weight={0:0.26, 1:0.74})\n",
    "\n",
    "# Fitting the model\n",
    "random_fr_weighted.fit(X,y)\n",
    "\n",
    "print('Done!')"
   ]
  },
  {
   "cell_type": "markdown",
   "id": "129cf02f",
   "metadata": {},
   "source": [
    "### Testing The Model"
   ]
  },
  {
   "cell_type": "markdown",
   "id": "5a76500d",
   "metadata": {},
   "source": [
    "#### Baseline Model Test"
   ]
  },
  {
   "cell_type": "code",
   "execution_count": 77,
   "id": "6ccb8772",
   "metadata": {
    "ExecuteTime": {
     "end_time": "2022-08-02T17:12:53.259678Z",
     "start_time": "2022-08-02T17:12:53.032421Z"
    }
   },
   "outputs": [
    {
     "name": "stdout",
     "output_type": "stream",
     "text": [
      "The model predicts the test results to 86.4% accuracy.\n"
     ]
    }
   ],
   "source": [
    "#  Testing the model\n",
    "model_prediction = random_fr_baseline.predict(X_test)\n",
    "#  Predicting probability...\n",
    "proba_preds = random_fr_baseline.predict_proba(X_test)\n",
    "\n",
    "#  Scoring...\n",
    "test_score = random_fr_baseline.score(X_test, y_test)\n",
    "print(f'The model predicts the test results to {test_score.round(4)*100}% accuracy.')"
   ]
  },
  {
   "cell_type": "markdown",
   "id": "916f96a2",
   "metadata": {},
   "source": [
    "#### The results"
   ]
  },
  {
   "cell_type": "code",
   "execution_count": 78,
   "id": "b26d2c14",
   "metadata": {
    "ExecuteTime": {
     "end_time": "2022-08-02T17:13:04.931066Z",
     "start_time": "2022-08-02T17:13:04.903082Z"
    }
   },
   "outputs": [
    {
     "data": {
      "text/html": [
       "<div>\n",
       "<style scoped>\n",
       "    .dataframe tbody tr th:only-of-type {\n",
       "        vertical-align: middle;\n",
       "    }\n",
       "\n",
       "    .dataframe tbody tr th {\n",
       "        vertical-align: top;\n",
       "    }\n",
       "\n",
       "    .dataframe thead th {\n",
       "        text-align: right;\n",
       "    }\n",
       "</style>\n",
       "<table border=\"1\" class=\"dataframe\">\n",
       "  <thead>\n",
       "    <tr style=\"text-align: right;\">\n",
       "      <th></th>\n",
       "      <th>model_prediction</th>\n",
       "      <th>actual_class</th>\n",
       "      <th>probability_0</th>\n",
       "      <th>probability_1</th>\n",
       "    </tr>\n",
       "  </thead>\n",
       "  <tbody>\n",
       "    <tr>\n",
       "      <th>9394</th>\n",
       "      <td>0</td>\n",
       "      <td>0</td>\n",
       "      <td>0.795</td>\n",
       "      <td>0.205</td>\n",
       "    </tr>\n",
       "    <tr>\n",
       "      <th>898</th>\n",
       "      <td>0</td>\n",
       "      <td>1</td>\n",
       "      <td>0.817</td>\n",
       "      <td>0.183</td>\n",
       "    </tr>\n",
       "    <tr>\n",
       "      <th>2398</th>\n",
       "      <td>0</td>\n",
       "      <td>0</td>\n",
       "      <td>0.813</td>\n",
       "      <td>0.187</td>\n",
       "    </tr>\n",
       "    <tr>\n",
       "      <th>5906</th>\n",
       "      <td>0</td>\n",
       "      <td>0</td>\n",
       "      <td>0.895</td>\n",
       "      <td>0.105</td>\n",
       "    </tr>\n",
       "    <tr>\n",
       "      <th>2343</th>\n",
       "      <td>0</td>\n",
       "      <td>0</td>\n",
       "      <td>0.897</td>\n",
       "      <td>0.103</td>\n",
       "    </tr>\n",
       "  </tbody>\n",
       "</table>\n",
       "</div>"
      ],
      "text/plain": [
       "      model_prediction  actual_class  probability_0  probability_1\n",
       "9394                 0             0          0.795          0.205\n",
       "898                  0             1          0.817          0.183\n",
       "2398                 0             0          0.813          0.187\n",
       "5906                 0             0          0.895          0.105\n",
       "2343                 0             0          0.897          0.103"
      ]
     },
     "execution_count": 78,
     "metadata": {},
     "output_type": "execute_result"
    }
   ],
   "source": [
    "#  Creating dataframe\n",
    "results = pd.DataFrame({'model_prediction': model_prediction,\n",
    "                        'actual_class': y_test,\n",
    "                        'probability_0': proba_preds[:,0].round(3),\n",
    "                        'probability_1': proba_preds[:,1].round(3)},\n",
    "                       index=X_test.index)\n",
    "results.head()"
   ]
  },
  {
   "cell_type": "markdown",
   "id": "c1febd99",
   "metadata": {},
   "source": [
    "#### Metrics and Confusion Matrix"
   ]
  },
  {
   "cell_type": "code",
   "execution_count": 79,
   "id": "0dd54168",
   "metadata": {
    "ExecuteTime": {
     "end_time": "2022-08-02T17:13:16.236762Z",
     "start_time": "2022-08-02T17:13:15.669200Z"
    }
   },
   "outputs": [
    {
     "data": {
      "text/plain": [
       "<sklearn.metrics._plot.confusion_matrix.ConfusionMatrixDisplay at 0x203f2b45c40>"
      ]
     },
     "execution_count": 79,
     "metadata": {},
     "output_type": "execute_result"
    },
    {
     "data": {
      "image/png": "[encoded data removed]",
      "text/plain": [
       "<Figure size 864x432 with 3 Axes>"
      ]
     },
     "metadata": {},
     "output_type": "display_data"
    }
   ],
   "source": [
    "from sklearn.metrics import confusion_matrix, plot_confusion_matrix, recall_score, precision_score, f1_score, accuracy_score, ConfusionMatrixDisplay\n",
    "#  Metrics\n",
    "recall_1 = recall_score(y_test, model_prediction)\n",
    "precision_1 = precision_score(y_test, model_prediction)\n",
    "f1_1 = f1_score(y_test, model_prediction)\n",
    "accuracy_1 = accuracy_score(y_test, model_prediction)\n",
    "\n",
    "#  Creating a Series\n",
    "classification_scores = pd.Series([recall_1, precision_1, f1_1, accuracy_1], index=['recall', 'precision', 'f1', 'accuracy'])\n",
    "\n",
    "#  Plotting\n",
    "fig, axes = plt.subplots(1, 2, figsize=(12, 6))\n",
    "\n",
    "classification_scores.plot(kind='bar', ax=axes[0])\n",
    "ConfusionMatrixDisplay.from_estimator(X=X_test, y=y_test, estimator=random_fr_baseline, cmap='inferno', ax=axes[1])\n",
    "# sns.set(font_scale=1.0) # Adjusting  to fit\n"
   ]
  },
  {
   "cell_type": "markdown",
   "id": "dd6ee251",
   "metadata": {},
   "source": [
    "From the both plots, \n",
    "- It can be seen that the baseline model has a high accuracy of about 86.4%. \n",
    "- It also has a high precision at above 80% but a low recall at approximately 43%. \n",
    "- This implies that the model does a good job on identifying negative cases (0) but is poor at identifying positive cases (1) that is having low false positives and higher false negatives.\n",
    "- This baseline model is not ideal for our project"
   ]
  },
  {
   "cell_type": "markdown",
   "id": "4eb9e92f",
   "metadata": {},
   "source": [
    "### Weighted Model"
   ]
  },
  {
   "cell_type": "code",
   "execution_count": 80,
   "id": "5c4ccf2d",
   "metadata": {
    "ExecuteTime": {
     "end_time": "2022-08-02T17:18:46.557825Z",
     "start_time": "2022-08-02T17:18:46.308032Z"
    }
   },
   "outputs": [
    {
     "name": "stdout",
     "output_type": "stream",
     "text": [
      "The model predicts the test results to 86.4% accuracy.\n"
     ]
    }
   ],
   "source": [
    "#  Testing the model\n",
    "model_prediction_2 = random_fr_weighted.predict(X_test)\n",
    "#  Predicting probability...\n",
    "proba_preds_2 = random_fr_weighted.predict_proba(X_test)\n",
    "\n",
    "#  Scoring...\n",
    "test_score_2 = random_fr_weighted.score(X_test, y_test)\n",
    "print(f'The model predicts the test results to {test_score.round(4)*100}% accuracy.')"
   ]
  },
  {
   "cell_type": "markdown",
   "id": "a7a8d129",
   "metadata": {},
   "source": [
    "#### Result of Weighted Model\n"
   ]
  },
  {
   "cell_type": "code",
   "execution_count": 81,
   "id": "5d210d57",
   "metadata": {
    "ExecuteTime": {
     "end_time": "2022-08-02T17:18:57.511498Z",
     "start_time": "2022-08-02T17:18:57.485512Z"
    }
   },
   "outputs": [
    {
     "data": {
      "text/html": [
       "<div>\n",
       "<style scoped>\n",
       "    .dataframe tbody tr th:only-of-type {\n",
       "        vertical-align: middle;\n",
       "    }\n",
       "\n",
       "    .dataframe tbody tr th {\n",
       "        vertical-align: top;\n",
       "    }\n",
       "\n",
       "    .dataframe thead th {\n",
       "        text-align: right;\n",
       "    }\n",
       "</style>\n",
       "<table border=\"1\" class=\"dataframe\">\n",
       "  <thead>\n",
       "    <tr style=\"text-align: right;\">\n",
       "      <th></th>\n",
       "      <th>model_prediction</th>\n",
       "      <th>actual_class</th>\n",
       "      <th>probability_0</th>\n",
       "      <th>probability_1</th>\n",
       "    </tr>\n",
       "  </thead>\n",
       "  <tbody>\n",
       "    <tr>\n",
       "      <th>9394</th>\n",
       "      <td>0</td>\n",
       "      <td>0</td>\n",
       "      <td>0.527</td>\n",
       "      <td>0.473</td>\n",
       "    </tr>\n",
       "    <tr>\n",
       "      <th>898</th>\n",
       "      <td>0</td>\n",
       "      <td>1</td>\n",
       "      <td>0.603</td>\n",
       "      <td>0.397</td>\n",
       "    </tr>\n",
       "    <tr>\n",
       "      <th>2398</th>\n",
       "      <td>0</td>\n",
       "      <td>0</td>\n",
       "      <td>0.584</td>\n",
       "      <td>0.416</td>\n",
       "    </tr>\n",
       "    <tr>\n",
       "      <th>5906</th>\n",
       "      <td>0</td>\n",
       "      <td>0</td>\n",
       "      <td>0.808</td>\n",
       "      <td>0.192</td>\n",
       "    </tr>\n",
       "    <tr>\n",
       "      <th>2343</th>\n",
       "      <td>0</td>\n",
       "      <td>0</td>\n",
       "      <td>0.814</td>\n",
       "      <td>0.186</td>\n",
       "    </tr>\n",
       "  </tbody>\n",
       "</table>\n",
       "</div>"
      ],
      "text/plain": [
       "      model_prediction  actual_class  probability_0  probability_1\n",
       "9394                 0             0          0.527          0.473\n",
       "898                  0             1          0.603          0.397\n",
       "2398                 0             0          0.584          0.416\n",
       "5906                 0             0          0.808          0.192\n",
       "2343                 0             0          0.814          0.186"
      ]
     },
     "execution_count": 81,
     "metadata": {},
     "output_type": "execute_result"
    }
   ],
   "source": [
    "#  Creating dataframe\n",
    "results_2 = pd.DataFrame({'model_prediction': model_prediction_2,\n",
    "                        'actual_class': y_test,\n",
    "                        'probability_0': proba_preds_2[:,0].round(3),\n",
    "                        'probability_1': proba_preds_2[:,1].round(3)},\n",
    "                       index=X_test.index)\n",
    "results_2.head()"
   ]
  },
  {
   "cell_type": "markdown",
   "id": "f6cf39a5",
   "metadata": {},
   "source": [
    "#### Metrics and Confusion Matrix of the Weighted Model"
   ]
  },
  {
   "cell_type": "code",
   "execution_count": 82,
   "id": "ea950d2b",
   "metadata": {
    "ExecuteTime": {
     "end_time": "2022-08-02T17:19:11.205935Z",
     "start_time": "2022-08-02T17:19:10.650043Z"
    }
   },
   "outputs": [
    {
     "data": {
      "text/plain": [
       "<sklearn.metrics._plot.confusion_matrix.ConfusionMatrixDisplay at 0x203f2b75fd0>"
      ]
     },
     "execution_count": 82,
     "metadata": {},
     "output_type": "execute_result"
    },
    {
     "data": {
      "image/png": "[encoded data removed]",
      "text/plain": [
       "<Figure size 864x432 with 3 Axes>"
      ]
     },
     "metadata": {},
     "output_type": "display_data"
    }
   ],
   "source": [
    "from sklearn.metrics import confusion_matrix, plot_confusion_matrix, recall_score, precision_score, f1_score, accuracy_score, ConfusionMatrixDisplay\n",
    "#  Metrics\n",
    "recall_2 = recall_score(y_test, model_prediction_2)\n",
    "precision_2 = precision_score(y_test, model_prediction_2)\n",
    "f1_2 = f1_score(y_test, model_prediction_2)\n",
    "accuracy_2 = accuracy_score(y_test, model_prediction_2)\n",
    "\n",
    "#  Creating a Series\n",
    "classification_scores_2 = pd.Series([recall_2, precision_2, f1_2, accuracy_2], index=['recall', 'precision', 'f1', 'accuracy'])\n",
    "\n",
    "#  Plotting\n",
    "fig, axes = plt.subplots(1, 2, figsize=(12, 6))\n",
    "\n",
    "classification_scores_2.plot(kind='bar', ax=axes[0])\n",
    "ConfusionMatrixDisplay.from_estimator(X=X_test, y=y_test, estimator=random_fr_weighted, cmap='inferno', ax=axes[1])\n",
    "# sns.set(font_scale=1.0) # Adjusting  to fit\n"
   ]
  },
  {
   "cell_type": "markdown",
   "id": "372cff3e",
   "metadata": {},
   "source": [
    "From the plots above, The model still has similar accuracy with the model without weights at 86.4%. Where the weighted model out-performs the baseline is in recall, with a recall of about 70%, \n",
    "- The weighted model identified about 70% of positive cases churn(1). \n",
    "- Precision is lower in the weighted model at a values just above 55%."
   ]
  },
  {
   "cell_type": "markdown",
   "id": "e49347e5",
   "metadata": {},
   "source": [
    "### Model Explainability\n",
    "\n",
    "- SHAP will be used to understand the logic behind our model's predictions.\n",
    "- SHAP will also be used to understand how each feature affect the model's predictions."
   ]
  },
  {
   "cell_type": "code",
   "execution_count": 83,
   "id": "f967617c",
   "metadata": {
    "ExecuteTime": {
     "end_time": "2022-08-02T17:21:13.225769Z",
     "start_time": "2022-08-02T17:21:07.695798Z"
    }
   },
   "outputs": [
    {
     "data": {
      "image/png": "[encoded data removed]",
      "text/plain": [
       "<Figure size 800x670 with 2 Axes>"
      ]
     },
     "metadata": {},
     "output_type": "display_data"
    }
   ],
   "source": [
    "import shap # package used to calculate Shap values\n",
    "\n",
    "# Create object that can calculate shap values\n",
    "explainer = shap.TreeExplainer(random_fr_weighted)\n",
    "\n",
    "# Calculate shap values. This what we will plot.\n",
    "# Calculate shap_values for all of X_test\n",
    "shap_values = explainer.shap_values(X_test)\n",
    "\n",
    "# Make plot. Index of [1] is explained in text below\n",
    "plt.figure(dpi=100)\n",
    "shap.summary_plot(shap_values[1], X_test)"
   ]
  },
  {
   "cell_type": "markdown",
   "id": "73c7520a",
   "metadata": {},
   "source": [
    "The SHAP summary_plot above shows;\n",
    "- High values of Age caused higher prediction of customers terminating their account.\n",
    "- Low values for NumOfProduct increases the prediction of customers terminating their account.\n",
    "- Customers who aren't active also increases the chances of terminating their account.\n",
    "- From the country group, we can see customers who terminated their account the most are from Germany as seen in Geography_france.\n",
    "- For the gender group, more females terminated their accounts than males.\n",
    "- The Model ignored the HasCrCard feature.\n"
   ]
  },
  {
   "cell_type": "markdown",
   "id": "15d07a53",
   "metadata": {},
   "source": [
    "The shap_values object above is a list with two arrays. The first array is the SHAP values for a negative outcome (Not churn(0)), and the second array is the list of SHAP values for the positive outcome (Churn(1)). We typically think about predictions in terms of the prediction of a positive outcome, so we'll pull out SHAP values for positive outcomes (pulling out shap_values[1]).\n",
    "\n",
    "When plotting, we call shap_values[1]. \n",
    "- For classification problems, there is a separate array of SHAP values for each possible outcome. In this case, we index in to get the SHAP values for the prediction of \"Churn\"."
   ]
  },
  {
   "cell_type": "markdown",
   "id": "f644fa16",
   "metadata": {},
   "source": [
    "## Conclusion"
   ]
  },
  {
   "cell_type": "markdown",
   "id": "c816c701",
   "metadata": {},
   "source": [
    "The weighted Model did a better job compared to the baseline model in identifying more positive cases with the given low precision score due to more false positive identifications.\n",
    "- This can help the bank keep customers who have high tendency to churn using various targeted marketing techniques to keep these customers"
   ]
  },
  {
   "cell_type": "code",
   "execution_count": null,
   "id": "0b7c33c2",
   "metadata": {},
   "outputs": [],
   "source": []
  },
  {
   "cell_type": "code",
   "execution_count": null,
   "id": "2246cdaa",
   "metadata": {},
   "outputs": [],
   "source": []
  },
  {
   "cell_type": "code",
   "execution_count": null,
   "id": "6644ae07",
   "metadata": {},
   "outputs": [],
   "source": []
  },
  {
   "cell_type": "code",
   "execution_count": null,
   "id": "d52aaa48",
   "metadata": {},
   "outputs": [],
   "source": []
  }
 ],
 "metadata": {
  "kernelspec": {
   "display_name": "Python 3 (ipykernel)",
   "language": "python",
   "name": "python3"
  },
  "language_info": {
   "codemirror_mode": {
    "name": "ipython",
    "version": 3
   },
   "file_extension": ".py",
   "mimetype": "text/x-python",
   "name": "python",
   "nbconvert_exporter": "python",
   "pygments_lexer": "ipython3",
   "version": "3.9.7"
  },
  "toc": {
   "base_numbering": 1,
   "nav_menu": {},
   "number_sections": true,
   "sideBar": true,
   "skip_h1_title": false,
   "title_cell": "Table of Contents",
   "title_sidebar": "Contents",
   "toc_cell": true,
   "toc_position": {
    "height": "calc(100% - 180px)",
    "left": "10px",
    "top": "150px",
    "width": "303.542px"
   },
   "toc_section_display": true,
   "toc_window_display": false
  },
  "varInspector": {
   "cols": {
    "lenName": 16,
    "lenType": 16,
    "lenVar": 40
   },
   "kernels_config": {
    "python": {
     "delete_cmd_postfix": "",
     "delete_cmd_prefix": "del ",
     "library": "var_list.py",
     "varRefreshCmd": "print(var_dic_list())"
    },
    "r": {
     "delete_cmd_postfix": ") ",
     "delete_cmd_prefix": "rm(",
     "library": "var_list.r",
     "varRefreshCmd": "cat(var_dic_list()) "
    }
   },
   "types_to_exclude": [
    "module",
    "function",
    "builtin_function_or_method",
    "instance",
    "_Feature"
   ],
   "window_display": false
  },
  "vscode": {
   "interpreter": {
    "hash": "ad2bdc8ecc057115af97d19610ffacc2b4e99fae6737bb82f5d7fb13d2f2c186"
   }
  }
 },
 "nbformat": 4,
 "nbformat_minor": 5
}
